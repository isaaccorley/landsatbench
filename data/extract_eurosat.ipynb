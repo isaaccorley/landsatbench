{
 "cells": [
  {
   "cell_type": "code",
   "execution_count": 1,
   "metadata": {},
   "outputs": [
    {
     "data": {
      "text/plain": [
       "27000"
      ]
     },
     "execution_count": 1,
     "metadata": {},
     "output_type": "execute_result"
    }
   ],
   "source": [
    "import glob\n",
    "import os\n",
    "\n",
    "import geopandas as gpd\n",
    "import pandas as pd\n",
    "import rasterio\n",
    "import rasterio.features\n",
    "import rasterio.warp\n",
    "from shapely.geometry import box\n",
    "from tqdm import tqdm\n",
    "\n",
    "root = \"/workspace/storage/data/eurosat/ds/images/remote_sensing/otherDatasets/sentinel_2/tif\"\n",
    "images = glob.glob(os.path.join(root, \"**\", \"*.tif\"))\n",
    "len(images)"
   ]
  },
  {
   "cell_type": "code",
   "execution_count": 8,
   "metadata": {},
   "outputs": [
    {
     "name": "stderr",
     "output_type": "stream",
     "text": [
      "100%|██████████| 27000/27000 [00:56<00:00, 475.53it/s]\n"
     ]
    }
   ],
   "source": [
    "data = {}\n",
    "geoms = []\n",
    "for image in tqdm(images):\n",
    "    f = rasterio.open(image)\n",
    "    data[os.path.basename(image)] = {\n",
    "        \"path\": image,\n",
    "        \"filename\": os.path.basename(image),\n",
    "        \"label\": os.path.basename(os.path.dirname(image)),\n",
    "    }\n",
    "    geoms.append(box(*rasterio.warp.transform_bounds(f.crs, \"EPSG:4326\", *f.bounds)))\n",
    "    f.close()\n",
    "\n",
    "df = gpd.GeoDataFrame(pd.DataFrame(data).T, geometry=geoms, crs=\"EPSG:4326\")\n",
    "df.to_parquet(\"../data/eurosat.parquet\")"
   ]
  },
  {
   "cell_type": "code",
   "execution_count": 6,
   "metadata": {},
   "outputs": [
    {
     "data": {
      "text/html": [
       "<div>\n",
       "<style scoped>\n",
       "    .dataframe tbody tr th:only-of-type {\n",
       "        vertical-align: middle;\n",
       "    }\n",
       "\n",
       "    .dataframe tbody tr th {\n",
       "        vertical-align: top;\n",
       "    }\n",
       "\n",
       "    .dataframe thead th {\n",
       "        text-align: right;\n",
       "    }\n",
       "</style>\n",
       "<table border=\"1\" class=\"dataframe\">\n",
       "  <thead>\n",
       "    <tr style=\"text-align: right;\">\n",
       "      <th></th>\n",
       "      <th>index</th>\n",
       "      <th>path</th>\n",
       "      <th>filename</th>\n",
       "      <th>label</th>\n",
       "      <th>geometry</th>\n",
       "    </tr>\n",
       "  </thead>\n",
       "  <tbody>\n",
       "    <tr>\n",
       "      <th>0</th>\n",
       "      <td>Forest_1718.tif</td>\n",
       "      <td>/workspace/storage/data/eurosat/ds/images/remo...</td>\n",
       "      <td>Forest_1718.tif</td>\n",
       "      <td>Forest</td>\n",
       "      <td>POLYGON ((8.05468 49.35174, 8.05468 49.35757, ...</td>\n",
       "    </tr>\n",
       "    <tr>\n",
       "      <th>1</th>\n",
       "      <td>Forest_2596.tif</td>\n",
       "      <td>/workspace/storage/data/eurosat/ds/images/remo...</td>\n",
       "      <td>Forest_2596.tif</td>\n",
       "      <td>Forest</td>\n",
       "      <td>POLYGON ((3.85610 50.38271, 3.85610 50.38852, ...</td>\n",
       "    </tr>\n",
       "    <tr>\n",
       "      <th>2</th>\n",
       "      <td>Forest_1586.tif</td>\n",
       "      <td>/workspace/storage/data/eurosat/ds/images/remo...</td>\n",
       "      <td>Forest_1586.tif</td>\n",
       "      <td>Forest</td>\n",
       "      <td>POLYGON ((12.18449 42.17553, 12.18449 42.18150...</td>\n",
       "    </tr>\n",
       "    <tr>\n",
       "      <th>3</th>\n",
       "      <td>Forest_2845.tif</td>\n",
       "      <td>/workspace/storage/data/eurosat/ds/images/remo...</td>\n",
       "      <td>Forest_2845.tif</td>\n",
       "      <td>Forest</td>\n",
       "      <td>POLYGON ((27.44272 42.91130, 27.44272 42.91709...</td>\n",
       "    </tr>\n",
       "    <tr>\n",
       "      <th>4</th>\n",
       "      <td>Forest_666.tif</td>\n",
       "      <td>/workspace/storage/data/eurosat/ds/images/remo...</td>\n",
       "      <td>Forest_666.tif</td>\n",
       "      <td>Forest</td>\n",
       "      <td>POLYGON ((6.14389 49.83781, 6.14389 49.84380, ...</td>\n",
       "    </tr>\n",
       "  </tbody>\n",
       "</table>\n",
       "</div>"
      ],
      "text/plain": [
       "             index                                               path  \\\n",
       "0  Forest_1718.tif  /workspace/storage/data/eurosat/ds/images/remo...   \n",
       "1  Forest_2596.tif  /workspace/storage/data/eurosat/ds/images/remo...   \n",
       "2  Forest_1586.tif  /workspace/storage/data/eurosat/ds/images/remo...   \n",
       "3  Forest_2845.tif  /workspace/storage/data/eurosat/ds/images/remo...   \n",
       "4   Forest_666.tif  /workspace/storage/data/eurosat/ds/images/remo...   \n",
       "\n",
       "          filename   label                                           geometry  \n",
       "0  Forest_1718.tif  Forest  POLYGON ((8.05468 49.35174, 8.05468 49.35757, ...  \n",
       "1  Forest_2596.tif  Forest  POLYGON ((3.85610 50.38271, 3.85610 50.38852, ...  \n",
       "2  Forest_1586.tif  Forest  POLYGON ((12.18449 42.17553, 12.18449 42.18150...  \n",
       "3  Forest_2845.tif  Forest  POLYGON ((27.44272 42.91130, 27.44272 42.91709...  \n",
       "4   Forest_666.tif  Forest  POLYGON ((6.14389 49.83781, 6.14389 49.84380, ...  "
      ]
     },
     "execution_count": 6,
     "metadata": {},
     "output_type": "execute_result"
    }
   ],
   "source": [
    "df = gpd.read_parquet(\"../data/eurosat.parquet\")\n",
    "df.head()"
   ]
  }
 ],
 "metadata": {
  "kernelspec": {
   "display_name": "torchenv",
   "language": "python",
   "name": "python3"
  },
  "language_info": {
   "codemirror_mode": {
    "name": "ipython",
    "version": 3
   },
   "file_extension": ".py",
   "mimetype": "text/x-python",
   "name": "python",
   "nbconvert_exporter": "python",
   "pygments_lexer": "ipython3",
   "version": "3.11.5"
  }
 },
 "nbformat": 4,
 "nbformat_minor": 2
}
