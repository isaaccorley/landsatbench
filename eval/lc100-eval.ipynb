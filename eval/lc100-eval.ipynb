{
 "cells": [
  {
   "cell_type": "code",
   "execution_count": null,
   "id": "9d8b4711",
   "metadata": {},
   "outputs": [],
   "source": [
    "import sys\n",
    "\n",
    "sys.path.append(\"..\")\n",
    "\n",
    "import os\n",
    "\n",
    "import kornia.augmentation as K\n",
    "import numpy as np\n",
    "import pandas as pd\n",
    "import timm\n",
    "import torch\n",
    "from landsatbench.datamodule import LandsatDataModule\n",
    "from landsatbench.datasets.lc100 import dataset_statistics\n",
    "from landsatbench.embed import extract_features\n",
    "from landsatbench.eval import eval_knn, eval_linear_probe\n",
    "from torchgeo.models import (\n",
    "    ResNet18_Weights,\n",
    "    ResNet50_Weights,\n",
    "    ViTSmall16_Weights,\n",
    "    resnet18,\n",
    "    resnet50,\n",
    "    vit_small_patch16_224,\n",
    ")\n",
    "from tqdm import tqdm\n",
    "\n",
    "output_dir = \"../embeddings\"\n",
    "os.makedirs(output_dir, exist_ok=True)\n",
    "\n",
    "k = 5\n",
    "device = torch.device(\"mps\")\n",
    "\n",
    "root = \"../data\"\n",
    "dm = LandsatDataModule(name=\"lc100\", root=root, batch_size=16, num_workers=4, download=False)\n",
    "dm.prepare_data()"
   ]
  },
  {
   "cell_type": "markdown",
   "id": "2049862a",
   "metadata": {},
   "source": [
    "### Transforms"
   ]
  },
  {
   "cell_type": "code",
   "execution_count": 2,
   "id": "99c25f74",
   "metadata": {},
   "outputs": [],
   "source": [
    "# Imagenet transforms\n",
    "mins = dataset_statistics[\"min\"]\n",
    "maxs = dataset_statistics[\"max\"]\n",
    "means = dataset_statistics[\"mean\"]\n",
    "stds = dataset_statistics[\"std\"]\n",
    "imagenet_transforms = K.ImageSequential(\n",
    "    K.Normalize(mean=mins, std=1.0),\n",
    "    K.Normalize(mean=0.0, std=maxs),\n",
    "    K.Normalize(mean=means, std=stds),\n",
    ")\n",
    "\n",
    "# SSL4EO-L transforms\n",
    "min = 7272.72727272727272727272\n",
    "max = 18181.81818181818181818181\n",
    "ssl4eol_transforms = K.ImageSequential(\n",
    "    K.Normalize(mean=min, std=1.0), K.Normalize(mean=0.0, std=max - min)\n",
    ")"
   ]
  },
  {
   "cell_type": "markdown",
   "id": "5d1ac0c0",
   "metadata": {},
   "source": [
    "## Models"
   ]
  },
  {
   "cell_type": "code",
   "execution_count": 3,
   "id": "64b07d4c",
   "metadata": {},
   "outputs": [],
   "source": [
    "models = {\n",
    "    \"resnet18-imagenet\": dict(\n",
    "        model=timm.create_model,\n",
    "        transforms=imagenet_transforms,\n",
    "        kwargs=dict(model_name=\"resnet18\", pretrained=True),\n",
    "    ),\n",
    "    \"resnet50-imagenet\": dict(\n",
    "        model=timm.create_model,\n",
    "        transforms=imagenet_transforms,\n",
    "        kwargs=dict(model_name=\"resnet50\", pretrained=True),\n",
    "    ),\n",
    "    \"vits-imagenet\": dict(\n",
    "        model=timm.create_model,\n",
    "        transforms=imagenet_transforms,\n",
    "        kwargs=dict(model_name=\"vit_small_patch16_224\", pretrained=True),\n",
    "    ),\n",
    "    \"resnet18-ssl4eol-moco\": dict(\n",
    "        model=resnet18,\n",
    "        transforms=ssl4eol_transforms,\n",
    "        kwargs=dict(weights=ResNet18_Weights.LANDSAT_OLI_SR_MOCO),\n",
    "    ),\n",
    "    \"resnet18-ssl4eol-simclr\": dict(\n",
    "        model=resnet18,\n",
    "        transforms=ssl4eol_transforms,\n",
    "        kwargs=dict(weights=ResNet18_Weights.LANDSAT_OLI_SR_SIMCLR),\n",
    "    ),\n",
    "    \"resnet50-ssl4eol-moco\": dict(\n",
    "        model=resnet50,\n",
    "        transforms=ssl4eol_transforms,\n",
    "        kwargs=dict(weights=ResNet50_Weights.LANDSAT_OLI_SR_MOCO),\n",
    "    ),\n",
    "    \"resnet50-ssl4eol-simclr\": dict(\n",
    "        model=resnet50,\n",
    "        transforms=ssl4eol_transforms,\n",
    "        kwargs=dict(weights=ResNet50_Weights.LANDSAT_OLI_SR_SIMCLR),\n",
    "    ),\n",
    "    \"vits-ssl4eol-moco\": dict(\n",
    "        model=vit_small_patch16_224,\n",
    "        transforms=ssl4eol_transforms,\n",
    "        kwargs=dict(weights=ViTSmall16_Weights.LANDSAT_OLI_SR_MOCO),\n",
    "    ),\n",
    "    \"vits-ssl4eol-simclr\": dict(\n",
    "        model=vit_small_patch16_224,\n",
    "        transforms=ssl4eol_transforms,\n",
    "        kwargs=dict(weights=ViTSmall16_Weights.LANDSAT_OLI_SR_SIMCLR),\n",
    "    ),\n",
    "}"
   ]
  },
  {
   "cell_type": "markdown",
   "id": "20d5876c",
   "metadata": {},
   "source": [
    "### Generate Embeddings"
   ]
  },
  {
   "cell_type": "code",
   "execution_count": null,
   "id": "789b6b53",
   "metadata": {},
   "outputs": [
    {
     "name": "stderr",
     "output_type": "stream",
     "text": [
      "  0%|          | 0/9 [00:00<?, ?it/s]"
     ]
    },
    {
     "name": "stdout",
     "output_type": "stream",
     "text": [
      "Evaluating resnet18-imagenet...\n"
     ]
    },
    {
     "name": "stderr",
     "output_type": "stream",
     "text": []
    }
   ],
   "source": [
    "for name, v in tqdm(models.items(), total=len(models)):\n",
    "    print(f\"Embedding {name}...\")\n",
    "    model = v[\"model\"](**v[\"kwargs\"], num_classes=0, in_chans=7).to(device)\n",
    "    transforms = v[\"transforms\"]\n",
    "\n",
    "    dm.setup(\"fit\")\n",
    "    x_train, y_train = extract_features(model, dm.train_dataloader(), device, transforms)\n",
    "\n",
    "    dm.setup(\"test\")\n",
    "    x_test, y_test = extract_features(model, dm.test_dataloader(), device, transforms)\n",
    "\n",
    "    filename = os.path.join(output_dir, f\"lc100-{name}.npz\")\n",
    "    np.savez(\n",
    "        filename,\n",
    "        x_train=x_train,\n",
    "        y_train=y_train.astype(np.int16),\n",
    "        x_test=x_test,\n",
    "        y_test=y_test.astype(np.int16),\n",
    "    )"
   ]
  },
  {
   "cell_type": "markdown",
   "id": "2d94c6e2",
   "metadata": {},
   "source": [
    "### Compute Metrics"
   ]
  },
  {
   "cell_type": "code",
   "execution_count": null,
   "id": "d065547b",
   "metadata": {},
   "outputs": [
    {
     "name": "stderr",
     "output_type": "stream",
     "text": [
      "  0%|          | 0/9 [00:00<?, ?it/s]/Users/isaaccorley/miniconda3/envs/torchgeo/lib/python3.11/site-packages/sklearn/metrics/_classification.py:1565: UndefinedMetricWarning: Precision is ill-defined and being set to 0.0 in labels with no predicted samples. Use `zero_division` parameter to control this behavior.\n",
      "  _warn_prf(average, modifier, f\"{metric.capitalize()} is\", len(result))\n"
     ]
    },
    {
     "name": "stdout",
     "output_type": "stream",
     "text": [
      "Evaluating resnet18-imagenet...\n",
      "+--------------------+---------------------+---------------------+------------------+------------------+--------------+--------------+---------------+---------------+\n",
      "|   overall_accuracy |   overall_precision |   average_precision |   overall_recall |   average_recall |   overall_f1 |   average_f1 |   overall_map |   average_map |\n",
      "+====================+=====================+=====================+==================+==================+==============+==============+===============+===============+\n",
      "|         0.00753187 |            0.588987 |            0.358604 |         0.567311 |         0.347003 |     0.577946 |     0.350185 |      0.565084 |      0.364424 |\n",
      "+--------------------+---------------------+---------------------+------------------+------------------+--------------+--------------+---------------+---------------+\n"
     ]
    },
    {
     "name": "stderr",
     "output_type": "stream",
     "text": [
      " 11%|█         | 1/9 [00:00<00:01,  4.51it/s]/Users/isaaccorley/miniconda3/envs/torchgeo/lib/python3.11/site-packages/sklearn/metrics/_classification.py:1565: UndefinedMetricWarning: Precision is ill-defined and being set to 0.0 in labels with no predicted samples. Use `zero_division` parameter to control this behavior.\n",
      "  _warn_prf(average, modifier, f\"{metric.capitalize()} is\", len(result))\n"
     ]
    },
    {
     "name": "stdout",
     "output_type": "stream",
     "text": [
      "Evaluating resnet50-imagenet...\n"
     ]
    },
    {
     "name": "stderr",
     "output_type": "stream",
     "text": [
      " 22%|██▏       | 2/9 [00:00<00:02,  3.32it/s]"
     ]
    },
    {
     "name": "stdout",
     "output_type": "stream",
     "text": [
      "+--------------------+---------------------+---------------------+------------------+------------------+--------------+--------------+---------------+---------------+\n",
      "|   overall_accuracy |   overall_precision |   average_precision |   overall_recall |   average_recall |   overall_f1 |   average_f1 |   overall_map |   average_map |\n",
      "+====================+=====================+=====================+==================+==================+==============+==============+===============+===============+\n",
      "|         0.00637312 |            0.588854 |            0.360049 |         0.562564 |         0.344989 |     0.575409 |      0.34978 |      0.565839 |      0.367034 |\n",
      "+--------------------+---------------------+---------------------+------------------+------------------+--------------+--------------+---------------+---------------+\n",
      "Evaluating vits-imagenet...\n",
      "+--------------------+---------------------+---------------------+------------------+------------------+--------------+--------------+---------------+---------------+\n",
      "|   overall_accuracy |   overall_precision |   average_precision |   overall_recall |   average_recall |   overall_f1 |   average_f1 |   overall_map |   average_map |\n",
      "+====================+=====================+=====================+==================+==================+==============+==============+===============+===============+\n",
      "|         0.00926999 |            0.591058 |            0.364974 |         0.571094 |         0.352416 |     0.580905 |      0.35561 |      0.564785 |      0.366417 |\n",
      "+--------------------+---------------------+---------------------+------------------+------------------+--------------+--------------+---------------+---------------+\n"
     ]
    },
    {
     "name": "stderr",
     "output_type": "stream",
     "text": [
      "/Users/isaaccorley/miniconda3/envs/torchgeo/lib/python3.11/site-packages/sklearn/metrics/_classification.py:1565: UndefinedMetricWarning: Precision is ill-defined and being set to 0.0 in labels with no predicted samples. Use `zero_division` parameter to control this behavior.\n",
      "  _warn_prf(average, modifier, f\"{metric.capitalize()} is\", len(result))\n",
      " 33%|███▎      | 3/9 [00:00<00:01,  3.83it/s]"
     ]
    },
    {
     "name": "stdout",
     "output_type": "stream",
     "text": [
      "Evaluating resnet18-ssl4eol-moco...\n",
      "+--------------------+---------------------+---------------------+------------------+------------------+--------------+--------------+---------------+---------------+\n",
      "|   overall_accuracy |   overall_precision |   average_precision |   overall_recall |   average_recall |   overall_f1 |   average_f1 |   overall_map |   average_map |\n",
      "+====================+=====================+=====================+==================+==================+==============+==============+===============+===============+\n",
      "|         0.00637312 |            0.593656 |            0.359798 |         0.581894 |         0.355066 |     0.587716 |     0.354165 |       0.56896 |      0.366258 |\n",
      "+--------------------+---------------------+---------------------+------------------+------------------+--------------+--------------+---------------+---------------+\n"
     ]
    },
    {
     "name": "stderr",
     "output_type": "stream",
     "text": [
      "/Users/isaaccorley/miniconda3/envs/torchgeo/lib/python3.11/site-packages/sklearn/metrics/_classification.py:1565: UndefinedMetricWarning: Precision is ill-defined and being set to 0.0 in labels with no predicted samples. Use `zero_division` parameter to control this behavior.\n",
      "  _warn_prf(average, modifier, f\"{metric.capitalize()} is\", len(result))\n",
      " 44%|████▍     | 4/9 [00:01<00:01,  4.04it/s]/Users/isaaccorley/miniconda3/envs/torchgeo/lib/python3.11/site-packages/sklearn/metrics/_classification.py:1565: UndefinedMetricWarning: Precision is ill-defined and being set to 0.0 in labels with no predicted samples. Use `zero_division` parameter to control this behavior.\n",
      "  _warn_prf(average, modifier, f\"{metric.capitalize()} is\", len(result))\n",
      " 56%|█████▌    | 5/9 [00:01<00:00,  4.44it/s]"
     ]
    },
    {
     "name": "stdout",
     "output_type": "stream",
     "text": [
      "Evaluating resnet18-ssl4eol-simclr...\n",
      "+--------------------+---------------------+---------------------+------------------+------------------+--------------+--------------+---------------+---------------+\n",
      "|   overall_accuracy |   overall_precision |   average_precision |   overall_recall |   average_recall |   overall_f1 |   average_f1 |   overall_map |   average_map |\n",
      "+====================+=====================+=====================+==================+==================+==============+==============+===============+===============+\n",
      "|         0.00579374 |            0.603768 |            0.373922 |         0.586366 |          0.36013 |      0.59494 |     0.362416 |      0.576867 |      0.368457 |\n",
      "+--------------------+---------------------+---------------------+------------------+------------------+--------------+--------------+---------------+---------------+\n",
      "Evaluating resnet50-ssl4eol-moco...\n"
     ]
    },
    {
     "name": "stderr",
     "output_type": "stream",
     "text": [
      "/Users/isaaccorley/miniconda3/envs/torchgeo/lib/python3.11/site-packages/sklearn/metrics/_classification.py:1565: UndefinedMetricWarning: Precision is ill-defined and being set to 0.0 in labels with no predicted samples. Use `zero_division` parameter to control this behavior.\n",
      "  _warn_prf(average, modifier, f\"{metric.capitalize()} is\", len(result))\n",
      " 67%|██████▋   | 6/9 [00:01<00:00,  3.59it/s]"
     ]
    },
    {
     "name": "stdout",
     "output_type": "stream",
     "text": [
      "+--------------------+---------------------+---------------------+------------------+------------------+--------------+--------------+---------------+---------------+\n",
      "|   overall_accuracy |   overall_precision |   average_precision |   overall_recall |   average_recall |   overall_f1 |   average_f1 |   overall_map |   average_map |\n",
      "+====================+=====================+=====================+==================+==================+==============+==============+===============+===============+\n",
      "|         0.00579374 |            0.586428 |            0.363905 |         0.579005 |          0.35896 |     0.582693 |     0.358915 |       0.56239 |      0.365622 |\n",
      "+--------------------+---------------------+---------------------+------------------+------------------+--------------+--------------+---------------+---------------+\n",
      "Evaluating resnet50-ssl4eol-simclr...\n"
     ]
    },
    {
     "name": "stderr",
     "output_type": "stream",
     "text": [
      "/Users/isaaccorley/miniconda3/envs/torchgeo/lib/python3.11/site-packages/sklearn/metrics/_classification.py:1565: UndefinedMetricWarning: Precision is ill-defined and being set to 0.0 in labels with no predicted samples. Use `zero_division` parameter to control this behavior.\n",
      "  _warn_prf(average, modifier, f\"{metric.capitalize()} is\", len(result))\n",
      " 78%|███████▊  | 7/9 [00:01<00:00,  3.27it/s]/Users/isaaccorley/miniconda3/envs/torchgeo/lib/python3.11/site-packages/sklearn/metrics/_classification.py:1565: UndefinedMetricWarning: Precision is ill-defined and being set to 0.0 in labels with no predicted samples. Use `zero_division` parameter to control this behavior.\n",
      "  _warn_prf(average, modifier, f\"{metric.capitalize()} is\", len(result))\n",
      " 89%|████████▉ | 8/9 [00:02<00:00,  3.76it/s]"
     ]
    },
    {
     "name": "stdout",
     "output_type": "stream",
     "text": [
      "+--------------------+---------------------+---------------------+------------------+------------------+--------------+--------------+---------------+---------------+\n",
      "|   overall_accuracy |   overall_precision |   average_precision |   overall_recall |   average_recall |   overall_f1 |   average_f1 |   overall_map |   average_map |\n",
      "+====================+=====================+=====================+==================+==================+==============+==============+===============+===============+\n",
      "|         0.00637312 |            0.594939 |            0.360234 |         0.575703 |         0.350599 |     0.585163 |     0.352064 |      0.567751 |      0.365065 |\n",
      "+--------------------+---------------------+---------------------+------------------+------------------+--------------+--------------+---------------+---------------+\n",
      "Evaluating vits-ssl4eol-moco...\n",
      "+--------------------+---------------------+---------------------+------------------+------------------+--------------+--------------+---------------+---------------+\n",
      "|   overall_accuracy |   overall_precision |   average_precision |   overall_recall |   average_recall |   overall_f1 |   average_f1 |   overall_map |   average_map |\n",
      "+====================+=====================+=====================+==================+==================+==============+==============+===============+===============+\n",
      "|         0.00463499 |            0.587007 |            0.367326 |         0.574328 |          0.35964 |     0.580598 |     0.361978 |      0.560163 |      0.367489 |\n",
      "+--------------------+---------------------+---------------------+------------------+------------------+--------------+--------------+---------------+---------------+\n",
      "Evaluating vits-ssl4eol-simclr...\n"
     ]
    },
    {
     "name": "stderr",
     "output_type": "stream",
     "text": [
      "/Users/isaaccorley/miniconda3/envs/torchgeo/lib/python3.11/site-packages/sklearn/metrics/_classification.py:1565: UndefinedMetricWarning: Precision is ill-defined and being set to 0.0 in labels with no predicted samples. Use `zero_division` parameter to control this behavior.\n",
      "  _warn_prf(average, modifier, f\"{metric.capitalize()} is\", len(result))\n",
      "100%|██████████| 9/9 [00:02<00:00,  3.87it/s]"
     ]
    },
    {
     "name": "stdout",
     "output_type": "stream",
     "text": [
      "+--------------------+---------------------+---------------------+------------------+------------------+--------------+--------------+---------------+---------------+\n",
      "|   overall_accuracy |   overall_precision |   average_precision |   overall_recall |   average_recall |   overall_f1 |   average_f1 |   overall_map |   average_map |\n",
      "+====================+=====================+=====================+==================+==================+==============+==============+===============+===============+\n",
      "|         0.00753187 |            0.584982 |            0.367167 |         0.579831 |         0.361184 |     0.582395 |     0.361073 |      0.557752 |      0.363224 |\n",
      "+--------------------+---------------------+---------------------+------------------+------------------+--------------+--------------+---------------+---------------+\n"
     ]
    },
    {
     "name": "stderr",
     "output_type": "stream",
     "text": [
      "\n"
     ]
    }
   ],
   "source": [
    "all_metrics = dict()\n",
    "for name in tqdm(models, total=len(models)):\n",
    "    print(f\"Evaluating {name}...\")\n",
    "    filename = os.path.join(output_dir, f\"lc100-{name}.npz\")\n",
    "    embeddings = np.load(filename)\n",
    "    x_train, y_train, x_test, y_test = (\n",
    "        embeddings[\"x_train\"],\n",
    "        embeddings[\"y_train\"],\n",
    "        embeddings[\"x_test\"],\n",
    "        embeddings[\"y_test\"],\n",
    "    )\n",
    "    metrics = eval_knn(x_train, y_train, x_test, y_test, k=5, scale=False, multilabel=True)\n",
    "    all_metrics[name] = metrics\n",
    "\n",
    "pd.DataFrame(all_metrics).T.to_csv(\"lc100-knn-results.csv\")"
   ]
  },
  {
   "cell_type": "markdown",
   "id": "1e534f2a",
   "metadata": {},
   "source": [
    "### Linear Probing"
   ]
  },
  {
   "cell_type": "code",
   "execution_count": 4,
   "id": "e20e13e3",
   "metadata": {
    "notebookRunGroups": {
     "groupValue": "1"
    }
   },
   "outputs": [
    {
     "name": "stderr",
     "output_type": "stream",
     "text": [
      "  0%|          | 0/9 [00:00<?, ?it/s]"
     ]
    },
    {
     "name": "stdout",
     "output_type": "stream",
     "text": [
      "Evaluating resnet18-imagenet...\n"
     ]
    },
    {
     "name": "stderr",
     "output_type": "stream",
     "text": [
      "/Users/isaaccorley/miniconda3/envs/torchgeo/lib/python3.11/site-packages/sklearn/metrics/_classification.py:1565: UndefinedMetricWarning: Precision is ill-defined and being set to 0.0 in labels with no predicted samples. Use `zero_division` parameter to control this behavior.\n",
      "  _warn_prf(average, modifier, f\"{metric.capitalize()} is\", len(result))\n",
      " 11%|█         | 1/9 [00:32<04:16, 32.09s/it]"
     ]
    },
    {
     "name": "stdout",
     "output_type": "stream",
     "text": [
      "+--------------------+---------------------+---------------------+------------------+------------------+--------------+--------------+---------------+---------------+\n",
      "|   overall_accuracy |   overall_precision |   average_precision |   overall_recall |   average_recall |   overall_f1 |   average_f1 |   overall_map |   average_map |\n",
      "+====================+=====================+=====================+==================+==================+==============+==============+===============+===============+\n",
      "|         0.00579374 |            0.594923 |            0.359801 |         0.562633 |         0.342108 |     0.578328 |     0.348068 |      0.620584 |      0.370534 |\n",
      "+--------------------+---------------------+---------------------+------------------+------------------+--------------+--------------+---------------+---------------+\n",
      "Evaluating resnet50-imagenet...\n"
     ]
    },
    {
     "name": "stderr",
     "output_type": "stream",
     "text": [
      "/Users/isaaccorley/miniconda3/envs/torchgeo/lib/python3.11/site-packages/sklearn/metrics/_classification.py:1565: UndefinedMetricWarning: Precision is ill-defined and being set to 0.0 in labels with no predicted samples. Use `zero_division` parameter to control this behavior.\n",
      "  _warn_prf(average, modifier, f\"{metric.capitalize()} is\", len(result))\n",
      " 22%|██▏       | 2/9 [02:27<09:28, 81.28s/it]"
     ]
    },
    {
     "name": "stdout",
     "output_type": "stream",
     "text": [
      "+--------------------+---------------------+---------------------+------------------+------------------+--------------+--------------+---------------+---------------+\n",
      "|   overall_accuracy |   overall_precision |   average_precision |   overall_recall |   average_recall |   overall_f1 |   average_f1 |   overall_map |   average_map |\n",
      "+====================+=====================+=====================+==================+==================+==============+==============+===============+===============+\n",
      "|         0.00637312 |            0.584639 |            0.364494 |         0.567105 |         0.352645 |     0.575739 |     0.356569 |      0.606489 |      0.365946 |\n",
      "+--------------------+---------------------+---------------------+------------------+------------------+--------------+--------------+---------------+---------------+\n",
      "Evaluating vits-imagenet...\n"
     ]
    },
    {
     "name": "stderr",
     "output_type": "stream",
     "text": [
      "/Users/isaaccorley/miniconda3/envs/torchgeo/lib/python3.11/site-packages/sklearn/linear_model/_sag.py:348: ConvergenceWarning: The max_iter was reached which means the coef_ did not converge\n",
      "  warnings.warn(\n",
      "/Users/isaaccorley/miniconda3/envs/torchgeo/lib/python3.11/site-packages/sklearn/metrics/_classification.py:1565: UndefinedMetricWarning: Precision is ill-defined and being set to 0.0 in labels with no predicted samples. Use `zero_division` parameter to control this behavior.\n",
      "  _warn_prf(average, modifier, f\"{metric.capitalize()} is\", len(result))\n",
      " 33%|███▎      | 3/9 [03:40<07:42, 77.15s/it]"
     ]
    },
    {
     "name": "stdout",
     "output_type": "stream",
     "text": [
      "+--------------------+---------------------+---------------------+------------------+------------------+--------------+--------------+---------------+---------------+\n",
      "|   overall_accuracy |   overall_precision |   average_precision |   overall_recall |   average_recall |   overall_f1 |   average_f1 |   overall_map |   average_map |\n",
      "+====================+=====================+=====================+==================+==================+==============+==============+===============+===============+\n",
      "|         0.00695249 |            0.572441 |            0.359735 |         0.561257 |         0.352972 |     0.566794 |     0.355588 |      0.605113 |      0.366522 |\n",
      "+--------------------+---------------------+---------------------+------------------+------------------+--------------+--------------+---------------+---------------+\n",
      "Evaluating resnet18-ssl4eol-moco...\n"
     ]
    },
    {
     "name": "stderr",
     "output_type": "stream",
     "text": [
      "/Users/isaaccorley/miniconda3/envs/torchgeo/lib/python3.11/site-packages/sklearn/linear_model/_sag.py:348: ConvergenceWarning: The max_iter was reached which means the coef_ did not converge\n",
      "  warnings.warn(\n",
      "/Users/isaaccorley/miniconda3/envs/torchgeo/lib/python3.11/site-packages/sklearn/linear_model/_sag.py:348: ConvergenceWarning: The max_iter was reached which means the coef_ did not converge\n",
      "  warnings.warn(\n",
      "/Users/isaaccorley/miniconda3/envs/torchgeo/lib/python3.11/site-packages/sklearn/linear_model/_sag.py:348: ConvergenceWarning: The max_iter was reached which means the coef_ did not converge\n",
      "  warnings.warn(\n",
      "/Users/isaaccorley/miniconda3/envs/torchgeo/lib/python3.11/site-packages/sklearn/linear_model/_sag.py:348: ConvergenceWarning: The max_iter was reached which means the coef_ did not converge\n",
      "  warnings.warn(\n",
      "/Users/isaaccorley/miniconda3/envs/torchgeo/lib/python3.11/site-packages/sklearn/linear_model/_sag.py:348: ConvergenceWarning: The max_iter was reached which means the coef_ did not converge\n",
      "  warnings.warn(\n",
      "/Users/isaaccorley/miniconda3/envs/torchgeo/lib/python3.11/site-packages/sklearn/linear_model/_sag.py:348: ConvergenceWarning: The max_iter was reached which means the coef_ did not converge\n",
      "  warnings.warn(\n",
      "/Users/isaaccorley/miniconda3/envs/torchgeo/lib/python3.11/site-packages/sklearn/linear_model/_sag.py:348: ConvergenceWarning: The max_iter was reached which means the coef_ did not converge\n",
      "  warnings.warn(\n",
      "/Users/isaaccorley/miniconda3/envs/torchgeo/lib/python3.11/site-packages/sklearn/linear_model/_sag.py:348: ConvergenceWarning: The max_iter was reached which means the coef_ did not converge\n",
      "  warnings.warn(\n",
      "/Users/isaaccorley/miniconda3/envs/torchgeo/lib/python3.11/site-packages/sklearn/linear_model/_sag.py:348: ConvergenceWarning: The max_iter was reached which means the coef_ did not converge\n",
      "  warnings.warn(\n",
      "/Users/isaaccorley/miniconda3/envs/torchgeo/lib/python3.11/site-packages/sklearn/linear_model/_sag.py:348: ConvergenceWarning: The max_iter was reached which means the coef_ did not converge\n",
      "  warnings.warn(\n",
      "/Users/isaaccorley/miniconda3/envs/torchgeo/lib/python3.11/site-packages/sklearn/linear_model/_sag.py:348: ConvergenceWarning: The max_iter was reached which means the coef_ did not converge\n",
      "  warnings.warn(\n",
      "/Users/isaaccorley/miniconda3/envs/torchgeo/lib/python3.11/site-packages/sklearn/linear_model/_sag.py:348: ConvergenceWarning: The max_iter was reached which means the coef_ did not converge\n",
      "  warnings.warn(\n",
      "/Users/isaaccorley/miniconda3/envs/torchgeo/lib/python3.11/site-packages/sklearn/linear_model/_sag.py:348: ConvergenceWarning: The max_iter was reached which means the coef_ did not converge\n",
      "  warnings.warn(\n",
      "/Users/isaaccorley/miniconda3/envs/torchgeo/lib/python3.11/site-packages/sklearn/linear_model/_sag.py:348: ConvergenceWarning: The max_iter was reached which means the coef_ did not converge\n",
      "  warnings.warn(\n",
      "/Users/isaaccorley/miniconda3/envs/torchgeo/lib/python3.11/site-packages/sklearn/linear_model/_sag.py:348: ConvergenceWarning: The max_iter was reached which means the coef_ did not converge\n",
      "  warnings.warn(\n",
      "/Users/isaaccorley/miniconda3/envs/torchgeo/lib/python3.11/site-packages/sklearn/linear_model/_sag.py:348: ConvergenceWarning: The max_iter was reached which means the coef_ did not converge\n",
      "  warnings.warn(\n",
      "/Users/isaaccorley/miniconda3/envs/torchgeo/lib/python3.11/site-packages/sklearn/linear_model/_sag.py:348: ConvergenceWarning: The max_iter was reached which means the coef_ did not converge\n",
      "  warnings.warn(\n",
      "/Users/isaaccorley/miniconda3/envs/torchgeo/lib/python3.11/site-packages/sklearn/linear_model/_sag.py:348: ConvergenceWarning: The max_iter was reached which means the coef_ did not converge\n",
      "  warnings.warn(\n",
      "/Users/isaaccorley/miniconda3/envs/torchgeo/lib/python3.11/site-packages/sklearn/linear_model/_sag.py:348: ConvergenceWarning: The max_iter was reached which means the coef_ did not converge\n",
      "  warnings.warn(\n",
      "/Users/isaaccorley/miniconda3/envs/torchgeo/lib/python3.11/site-packages/sklearn/linear_model/_sag.py:348: ConvergenceWarning: The max_iter was reached which means the coef_ did not converge\n",
      "  warnings.warn(\n",
      "/Users/isaaccorley/miniconda3/envs/torchgeo/lib/python3.11/site-packages/sklearn/linear_model/_sag.py:348: ConvergenceWarning: The max_iter was reached which means the coef_ did not converge\n",
      "  warnings.warn(\n",
      "/Users/isaaccorley/miniconda3/envs/torchgeo/lib/python3.11/site-packages/sklearn/linear_model/_sag.py:348: ConvergenceWarning: The max_iter was reached which means the coef_ did not converge\n",
      "  warnings.warn(\n",
      "/Users/isaaccorley/miniconda3/envs/torchgeo/lib/python3.11/site-packages/sklearn/linear_model/_sag.py:348: ConvergenceWarning: The max_iter was reached which means the coef_ did not converge\n",
      "  warnings.warn(\n",
      "/Users/isaaccorley/miniconda3/envs/torchgeo/lib/python3.11/site-packages/sklearn/metrics/_classification.py:1565: UndefinedMetricWarning: Precision is ill-defined and being set to 0.0 in labels with no predicted samples. Use `zero_division` parameter to control this behavior.\n",
      "  _warn_prf(average, modifier, f\"{metric.capitalize()} is\", len(result))\n",
      " 44%|████▍     | 4/9 [06:28<09:26, 113.22s/it]"
     ]
    },
    {
     "name": "stdout",
     "output_type": "stream",
     "text": [
      "+--------------------+---------------------+---------------------+------------------+------------------+--------------+--------------+---------------+---------------+\n",
      "|   overall_accuracy |   overall_precision |   average_precision |   overall_recall |   average_recall |   overall_f1 |   average_f1 |   overall_map |   average_map |\n",
      "+====================+=====================+=====================+==================+==================+==============+==============+===============+===============+\n",
      "|         0.00521437 |            0.598416 |            0.367635 |         0.576804 |         0.352345 |     0.587411 |     0.355091 |      0.616008 |      0.367968 |\n",
      "+--------------------+---------------------+---------------------+------------------+------------------+--------------+--------------+---------------+---------------+\n",
      "Evaluating resnet18-ssl4eol-simclr...\n"
     ]
    },
    {
     "name": "stderr",
     "output_type": "stream",
     "text": [
      "/Users/isaaccorley/miniconda3/envs/torchgeo/lib/python3.11/site-packages/sklearn/linear_model/_sag.py:348: ConvergenceWarning: The max_iter was reached which means the coef_ did not converge\n",
      "  warnings.warn(\n",
      "/Users/isaaccorley/miniconda3/envs/torchgeo/lib/python3.11/site-packages/sklearn/linear_model/_sag.py:348: ConvergenceWarning: The max_iter was reached which means the coef_ did not converge\n",
      "  warnings.warn(\n",
      "/Users/isaaccorley/miniconda3/envs/torchgeo/lib/python3.11/site-packages/sklearn/metrics/_classification.py:1565: UndefinedMetricWarning: Precision is ill-defined and being set to 0.0 in labels with no predicted samples. Use `zero_division` parameter to control this behavior.\n",
      "  _warn_prf(average, modifier, f\"{metric.capitalize()} is\", len(result))\n",
      " 56%|█████▌    | 5/9 [07:59<07:00, 105.16s/it]"
     ]
    },
    {
     "name": "stdout",
     "output_type": "stream",
     "text": [
      "+--------------------+---------------------+---------------------+------------------+------------------+--------------+--------------+---------------+---------------+\n",
      "|   overall_accuracy |   overall_precision |   average_precision |   overall_recall |   average_recall |   overall_f1 |   average_f1 |   overall_map |   average_map |\n",
      "+====================+=====================+=====================+==================+==================+==============+==============+===============+===============+\n",
      "|         0.00405562 |            0.623402 |             0.37087 |         0.583821 |         0.343188 |     0.602963 |     0.344339 |       0.63796 |      0.368235 |\n",
      "+--------------------+---------------------+---------------------+------------------+------------------+--------------+--------------+---------------+---------------+\n",
      "Evaluating resnet50-ssl4eol-moco...\n"
     ]
    },
    {
     "name": "stderr",
     "output_type": "stream",
     "text": [
      "/Users/isaaccorley/miniconda3/envs/torchgeo/lib/python3.11/site-packages/sklearn/linear_model/_sag.py:348: ConvergenceWarning: The max_iter was reached which means the coef_ did not converge\n",
      "  warnings.warn(\n",
      "/Users/isaaccorley/miniconda3/envs/torchgeo/lib/python3.11/site-packages/sklearn/linear_model/_sag.py:348: ConvergenceWarning: The max_iter was reached which means the coef_ did not converge\n",
      "  warnings.warn(\n",
      "/Users/isaaccorley/miniconda3/envs/torchgeo/lib/python3.11/site-packages/sklearn/metrics/_classification.py:1565: UndefinedMetricWarning: Precision is ill-defined and being set to 0.0 in labels with no predicted samples. Use `zero_division` parameter to control this behavior.\n",
      "  _warn_prf(average, modifier, f\"{metric.capitalize()} is\", len(result))\n",
      " 67%|██████▋   | 6/9 [23:40<19:28, 389.41s/it]"
     ]
    },
    {
     "name": "stdout",
     "output_type": "stream",
     "text": [
      "+--------------------+---------------------+---------------------+------------------+------------------+--------------+--------------+---------------+---------------+\n",
      "|   overall_accuracy |   overall_precision |   average_precision |   overall_recall |   average_recall |   overall_f1 |   average_f1 |   overall_map |   average_map |\n",
      "+====================+=====================+=====================+==================+==================+==============+==============+===============+===============+\n",
      "|         0.00637312 |            0.593004 |            0.364798 |           0.5691 |         0.349295 |     0.580806 |       0.3534 |      0.604643 |      0.366445 |\n",
      "+--------------------+---------------------+---------------------+------------------+------------------+--------------+--------------+---------------+---------------+\n",
      "Evaluating resnet50-ssl4eol-simclr...\n"
     ]
    },
    {
     "name": "stderr",
     "output_type": "stream",
     "text": [
      "/Users/isaaccorley/miniconda3/envs/torchgeo/lib/python3.11/site-packages/sklearn/linear_model/_sag.py:348: ConvergenceWarning: The max_iter was reached which means the coef_ did not converge\n",
      "  warnings.warn(\n",
      "/Users/isaaccorley/miniconda3/envs/torchgeo/lib/python3.11/site-packages/sklearn/linear_model/_sag.py:348: ConvergenceWarning: The max_iter was reached which means the coef_ did not converge\n",
      "  warnings.warn(\n",
      "/Users/isaaccorley/miniconda3/envs/torchgeo/lib/python3.11/site-packages/sklearn/linear_model/_sag.py:348: ConvergenceWarning: The max_iter was reached which means the coef_ did not converge\n",
      "  warnings.warn(\n",
      "/Users/isaaccorley/miniconda3/envs/torchgeo/lib/python3.11/site-packages/sklearn/linear_model/_sag.py:348: ConvergenceWarning: The max_iter was reached which means the coef_ did not converge\n",
      "  warnings.warn(\n",
      "/Users/isaaccorley/miniconda3/envs/torchgeo/lib/python3.11/site-packages/sklearn/linear_model/_sag.py:348: ConvergenceWarning: The max_iter was reached which means the coef_ did not converge\n",
      "  warnings.warn(\n",
      "/Users/isaaccorley/miniconda3/envs/torchgeo/lib/python3.11/site-packages/sklearn/linear_model/_sag.py:348: ConvergenceWarning: The max_iter was reached which means the coef_ did not converge\n",
      "  warnings.warn(\n",
      "/Users/isaaccorley/miniconda3/envs/torchgeo/lib/python3.11/site-packages/sklearn/linear_model/_sag.py:348: ConvergenceWarning: The max_iter was reached which means the coef_ did not converge\n",
      "  warnings.warn(\n",
      "/Users/isaaccorley/miniconda3/envs/torchgeo/lib/python3.11/site-packages/sklearn/metrics/_classification.py:1565: UndefinedMetricWarning: Precision is ill-defined and being set to 0.0 in labels with no predicted samples. Use `zero_division` parameter to control this behavior.\n",
      "  _warn_prf(average, modifier, f\"{metric.capitalize()} is\", len(result))\n",
      " 78%|███████▊  | 7/9 [33:30<15:09, 454.97s/it]"
     ]
    },
    {
     "name": "stdout",
     "output_type": "stream",
     "text": [
      "+--------------------+---------------------+---------------------+------------------+------------------+--------------+--------------+---------------+---------------+\n",
      "|   overall_accuracy |   overall_precision |   average_precision |   overall_recall |   average_recall |   overall_f1 |   average_f1 |   overall_map |   average_map |\n",
      "+====================+=====================+=====================+==================+==================+==============+==============+===============+===============+\n",
      "|         0.00463499 |            0.617504 |            0.369826 |         0.576598 |         0.340756 |      0.59635 |     0.343679 |      0.621088 |      0.363875 |\n",
      "+--------------------+---------------------+---------------------+------------------+------------------+--------------+--------------+---------------+---------------+\n",
      "Evaluating vits-ssl4eol-moco...\n"
     ]
    },
    {
     "name": "stderr",
     "output_type": "stream",
     "text": [
      "/Users/isaaccorley/miniconda3/envs/torchgeo/lib/python3.11/site-packages/sklearn/linear_model/_sag.py:348: ConvergenceWarning: The max_iter was reached which means the coef_ did not converge\n",
      "  warnings.warn(\n",
      "/Users/isaaccorley/miniconda3/envs/torchgeo/lib/python3.11/site-packages/sklearn/linear_model/_sag.py:348: ConvergenceWarning: The max_iter was reached which means the coef_ did not converge\n",
      "  warnings.warn(\n",
      "/Users/isaaccorley/miniconda3/envs/torchgeo/lib/python3.11/site-packages/sklearn/linear_model/_sag.py:348: ConvergenceWarning: The max_iter was reached which means the coef_ did not converge\n",
      "  warnings.warn(\n",
      "/Users/isaaccorley/miniconda3/envs/torchgeo/lib/python3.11/site-packages/sklearn/linear_model/_sag.py:348: ConvergenceWarning: The max_iter was reached which means the coef_ did not converge\n",
      "  warnings.warn(\n",
      "/Users/isaaccorley/miniconda3/envs/torchgeo/lib/python3.11/site-packages/sklearn/linear_model/_sag.py:348: ConvergenceWarning: The max_iter was reached which means the coef_ did not converge\n",
      "  warnings.warn(\n",
      "/Users/isaaccorley/miniconda3/envs/torchgeo/lib/python3.11/site-packages/sklearn/linear_model/_sag.py:348: ConvergenceWarning: The max_iter was reached which means the coef_ did not converge\n",
      "  warnings.warn(\n",
      "/Users/isaaccorley/miniconda3/envs/torchgeo/lib/python3.11/site-packages/sklearn/linear_model/_sag.py:348: ConvergenceWarning: The max_iter was reached which means the coef_ did not converge\n",
      "  warnings.warn(\n",
      "/Users/isaaccorley/miniconda3/envs/torchgeo/lib/python3.11/site-packages/sklearn/linear_model/_sag.py:348: ConvergenceWarning: The max_iter was reached which means the coef_ did not converge\n",
      "  warnings.warn(\n",
      "/Users/isaaccorley/miniconda3/envs/torchgeo/lib/python3.11/site-packages/sklearn/linear_model/_sag.py:348: ConvergenceWarning: The max_iter was reached which means the coef_ did not converge\n",
      "  warnings.warn(\n",
      "/Users/isaaccorley/miniconda3/envs/torchgeo/lib/python3.11/site-packages/sklearn/linear_model/_sag.py:348: ConvergenceWarning: The max_iter was reached which means the coef_ did not converge\n",
      "  warnings.warn(\n",
      "/Users/isaaccorley/miniconda3/envs/torchgeo/lib/python3.11/site-packages/sklearn/linear_model/_sag.py:348: ConvergenceWarning: The max_iter was reached which means the coef_ did not converge\n",
      "  warnings.warn(\n",
      "/Users/isaaccorley/miniconda3/envs/torchgeo/lib/python3.11/site-packages/sklearn/metrics/_classification.py:1565: UndefinedMetricWarning: Precision is ill-defined and being set to 0.0 in labels with no predicted samples. Use `zero_division` parameter to control this behavior.\n",
      "  _warn_prf(average, modifier, f\"{metric.capitalize()} is\", len(result))\n",
      " 89%|████████▉ | 8/9 [35:01<05:38, 338.98s/it]"
     ]
    },
    {
     "name": "stdout",
     "output_type": "stream",
     "text": [
      "+--------------------+---------------------+---------------------+------------------+------------------+--------------+--------------+---------------+---------------+\n",
      "|   overall_accuracy |   overall_precision |   average_precision |   overall_recall |   average_recall |   overall_f1 |   average_f1 |   overall_map |   average_map |\n",
      "+====================+=====================+=====================+==================+==================+==============+==============+===============+===============+\n",
      "|         0.00695249 |            0.576286 |            0.363949 |         0.572401 |         0.361582 |     0.574337 |     0.362018 |      0.598746 |       0.36679 |\n",
      "+--------------------+---------------------+---------------------+------------------+------------------+--------------+--------------+---------------+---------------+\n",
      "Evaluating vits-ssl4eol-simclr...\n"
     ]
    },
    {
     "name": "stderr",
     "output_type": "stream",
     "text": [
      "/Users/isaaccorley/miniconda3/envs/torchgeo/lib/python3.11/site-packages/sklearn/linear_model/_sag.py:348: ConvergenceWarning: The max_iter was reached which means the coef_ did not converge\n",
      "  warnings.warn(\n",
      "/Users/isaaccorley/miniconda3/envs/torchgeo/lib/python3.11/site-packages/sklearn/metrics/_classification.py:1565: UndefinedMetricWarning: Precision is ill-defined and being set to 0.0 in labels with no predicted samples. Use `zero_division` parameter to control this behavior.\n",
      "  _warn_prf(average, modifier, f\"{metric.capitalize()} is\", len(result))\n",
      "100%|██████████| 9/9 [35:28<00:00, 236.54s/it]"
     ]
    },
    {
     "name": "stdout",
     "output_type": "stream",
     "text": [
      "+--------------------+---------------------+---------------------+------------------+------------------+--------------+--------------+---------------+---------------+\n",
      "|   overall_accuracy |   overall_precision |   average_precision |   overall_recall |   average_recall |   overall_f1 |   average_f1 |   overall_map |   average_map |\n",
      "+====================+=====================+=====================+==================+==================+==============+==============+===============+===============+\n",
      "|         0.00579374 |            0.608711 |            0.363405 |         0.577767 |         0.344686 |     0.592836 |     0.345042 |      0.633713 |      0.364635 |\n",
      "+--------------------+---------------------+---------------------+------------------+------------------+--------------+--------------+---------------+---------------+\n"
     ]
    },
    {
     "name": "stderr",
     "output_type": "stream",
     "text": [
      "\n"
     ]
    }
   ],
   "source": [
    "all_metrics = dict()\n",
    "for name in tqdm(models, total=len(models)):\n",
    "    print(f\"Evaluating {name}...\")\n",
    "    filename = os.path.join(output_dir, f\"lc100-{name}.npz\")\n",
    "    embeddings = np.load(filename)\n",
    "    x_train, y_train, x_test, y_test = (\n",
    "        embeddings[\"x_train\"],\n",
    "        embeddings[\"y_train\"],\n",
    "        embeddings[\"x_test\"],\n",
    "        embeddings[\"y_test\"],\n",
    "    )\n",
    "    metrics = eval_linear_probe(x_train, y_train, x_test, y_test, multilabel=True)\n",
    "    all_metrics[name] = metrics\n",
    "\n",
    "pd.DataFrame(all_metrics).T.to_csv(\"lc100-lp-results.csv\")"
   ]
  }
 ],
 "metadata": {
  "kernelspec": {
   "display_name": "torchgeo",
   "language": "python",
   "name": "python3"
  },
  "language_info": {
   "codemirror_mode": {
    "name": "ipython",
    "version": 3
   },
   "file_extension": ".py",
   "mimetype": "text/x-python",
   "name": "python",
   "nbconvert_exporter": "python",
   "pygments_lexer": "ipython3",
   "version": "3.11.11"
  }
 },
 "nbformat": 4,
 "nbformat_minor": 5
}
