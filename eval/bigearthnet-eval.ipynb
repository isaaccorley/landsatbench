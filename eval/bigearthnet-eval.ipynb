{
 "cells": [
  {
   "cell_type": "code",
   "execution_count": null,
   "id": "9d8b4711",
   "metadata": {},
   "outputs": [],
   "source": [
    "import sys\n",
    "\n",
    "sys.path.append(\"..\")\n",
    "\n",
    "import os\n",
    "\n",
    "import kornia.augmentation as K\n",
    "import numpy as np\n",
    "import pandas as pd\n",
    "import timm\n",
    "import torch\n",
    "from landsatbench.datamodule import LandsatDataModule\n",
    "from landsatbench.datasets.bigearthnet import dataset_statistics\n",
    "from landsatbench.embed import extract_features\n",
    "from landsatbench.eval import eval_knn, eval_linear_probe\n",
    "from torchgeo.models import (\n",
    "    ResNet18_Weights,\n",
    "    ResNet50_Weights,\n",
    "    ViTSmall16_Weights,\n",
    "    resnet18,\n",
    "    resnet50,\n",
    "    vit_small_patch16_224,\n",
    ")\n",
    "from tqdm import tqdm\n",
    "\n",
    "output_dir = \"../embeddings\"\n",
    "os.makedirs(output_dir, exist_ok=True)\n",
    "\n",
    "k = 5\n",
    "device = torch.device(\"cuda\")\n",
    "\n",
    "root = \"../data\"\n",
    "dm = LandsatDataModule(name=\"bigearthnet\", root=root, batch_size=16, num_workers=4, download=False)\n",
    "dm.prepare_data()"
   ]
  },
  {
   "cell_type": "markdown",
   "id": "2049862a",
   "metadata": {},
   "source": [
    "### Transforms"
   ]
  },
  {
   "cell_type": "code",
   "execution_count": 2,
   "id": "99c25f74",
   "metadata": {},
   "outputs": [],
   "source": [
    "# Imagenet transforms\n",
    "mins = dataset_statistics[\"min\"]\n",
    "maxs = dataset_statistics[\"max\"]\n",
    "means = dataset_statistics[\"mean\"] / maxs\n",
    "stds = dataset_statistics[\"std\"] / maxs\n",
    "imagenet_transforms = K.ImageSequential(\n",
    "    K.Normalize(mean=0.0, std=maxs), K.Normalize(mean=means, std=stds), K.Resize(224), keepdim=True\n",
    ")\n",
    "\n",
    "# SSL4EO-L transforms\n",
    "min = 7272.72727272727272727272\n",
    "max = 18181.81818181818181818181\n",
    "ssl4eol_transforms = K.ImageSequential(\n",
    "    K.Normalize(mean=min, std=1.0),\n",
    "    K.Normalize(mean=0.0, std=max - min),\n",
    "    K.Resize(224),\n",
    "    keepdim=True,\n",
    ")"
   ]
  },
  {
   "cell_type": "markdown",
   "id": "5d1ac0c0",
   "metadata": {},
   "source": [
    "## Models"
   ]
  },
  {
   "cell_type": "code",
   "execution_count": 3,
   "id": "64b07d4c",
   "metadata": {},
   "outputs": [],
   "source": [
    "models = {\n",
    "    \"resnet18-imagenet\": dict(\n",
    "        model=timm.create_model,\n",
    "        transforms=imagenet_transforms,\n",
    "        kwargs=dict(model_name=\"resnet18\", pretrained=True),\n",
    "    ),\n",
    "    \"resnet50-imagenet\": dict(\n",
    "        model=timm.create_model,\n",
    "        transforms=imagenet_transforms,\n",
    "        kwargs=dict(model_name=\"resnet50\", pretrained=True),\n",
    "    ),\n",
    "    \"vits-imagenet\": dict(\n",
    "        model=timm.create_model,\n",
    "        transforms=imagenet_transforms,\n",
    "        kwargs=dict(model_name=\"vit_small_patch16_224\", pretrained=True),\n",
    "    ),\n",
    "    \"resnet18-ssl4eol-moco\": dict(\n",
    "        model=resnet18,\n",
    "        transforms=ssl4eol_transforms,\n",
    "        kwargs=dict(weights=ResNet18_Weights.LANDSAT_OLI_SR_MOCO),\n",
    "    ),\n",
    "    \"resnet18-ssl4eol-simclr\": dict(\n",
    "        model=resnet18,\n",
    "        transforms=ssl4eol_transforms,\n",
    "        kwargs=dict(weights=ResNet18_Weights.LANDSAT_OLI_SR_SIMCLR),\n",
    "    ),\n",
    "    \"resnet50-ssl4eol-moco\": dict(\n",
    "        model=resnet50,\n",
    "        transforms=ssl4eol_transforms,\n",
    "        kwargs=dict(weights=ResNet50_Weights.LANDSAT_OLI_SR_MOCO),\n",
    "    ),\n",
    "    \"resnet50-ssl4eol-simclr\": dict(\n",
    "        model=resnet50,\n",
    "        transforms=ssl4eol_transforms,\n",
    "        kwargs=dict(weights=ResNet50_Weights.LANDSAT_OLI_SR_SIMCLR),\n",
    "    ),\n",
    "    \"vits-ssl4eol-moco\": dict(\n",
    "        model=vit_small_patch16_224,\n",
    "        transforms=ssl4eol_transforms,\n",
    "        kwargs=dict(weights=ViTSmall16_Weights.LANDSAT_OLI_SR_MOCO),\n",
    "    ),\n",
    "    \"vits-ssl4eol-simclr\": dict(\n",
    "        model=vit_small_patch16_224,\n",
    "        transforms=ssl4eol_transforms,\n",
    "        kwargs=dict(weights=ViTSmall16_Weights.LANDSAT_OLI_SR_SIMCLR),\n",
    "    ),\n",
    "}"
   ]
  },
  {
   "cell_type": "markdown",
   "id": "20d5876c",
   "metadata": {},
   "source": [
    "### Generate Embeddings"
   ]
  },
  {
   "cell_type": "code",
   "execution_count": null,
   "id": "789b6b53",
   "metadata": {},
   "outputs": [
    {
     "name": "stderr",
     "output_type": "stream",
     "text": [
      "  0%|          | 0/9 [00:00<?, ?it/s]"
     ]
    },
    {
     "name": "stdout",
     "output_type": "stream",
     "text": [
      "Evaluating resnet18-imagenet...\n"
     ]
    },
    {
     "name": "stderr",
     "output_type": "stream",
     "text": []
    }
   ],
   "source": [
    "for name, v in tqdm(models.items(), total=len(models)):\n",
    "    print(f\"Embedding {name}...\")\n",
    "    model = v[\"model\"](**v[\"kwargs\"], num_classes=0, in_chans=7).to(device)\n",
    "    transforms = v[\"transforms\"]\n",
    "\n",
    "    dm.setup(\"fit\")\n",
    "    x_train, y_train = extract_features(model, dm.train_dataloader(), device, transforms)\n",
    "\n",
    "    dm.setup(\"test\")\n",
    "    x_test, y_test = extract_features(model, dm.test_dataloader(), device, transforms)\n",
    "\n",
    "    filename = os.path.join(output_dir, f\"bigearthnet-{name}.npz\")\n",
    "    np.savez(\n",
    "        filename,\n",
    "        x_train=x_train,\n",
    "        y_train=y_train.astype(np.int16),\n",
    "        x_test=x_test,\n",
    "        y_test=y_test.astype(np.int16),\n",
    "    )"
   ]
  },
  {
   "cell_type": "markdown",
   "id": "2d94c6e2",
   "metadata": {},
   "source": [
    "### Compute Metrics"
   ]
  },
  {
   "cell_type": "code",
   "execution_count": null,
   "id": "d065547b",
   "metadata": {},
   "outputs": [
    {
     "name": "stderr",
     "output_type": "stream",
     "text": [
      "  0%|          | 0/9 [00:00<?, ?it/s]"
     ]
    },
    {
     "name": "stdout",
     "output_type": "stream",
     "text": [
      "Evaluating resnet18-imagenet...\n",
      "+--------------------+---------------------+---------------------+------------------+------------------+--------------+--------------+---------------+---------------+\n",
      "|   overall_accuracy |   overall_precision |   average_precision |   overall_recall |   average_recall |   overall_f1 |   average_f1 |   overall_map |   average_map |\n",
      "+====================+=====================+=====================+==================+==================+==============+==============+===============+===============+\n",
      "|           0.216977 |               0.638 |            0.528234 |         0.545188 |         0.419432 |     0.587954 |     0.456209 |      0.575238 |      0.427049 |\n",
      "+--------------------+---------------------+---------------------+------------------+------------------+--------------+--------------+---------------+---------------+\n"
     ]
    },
    {
     "name": "stderr",
     "output_type": "stream",
     "text": [
      " 11%|█         | 1/9 [00:34<04:35, 34.47s/it]"
     ]
    },
    {
     "name": "stdout",
     "output_type": "stream",
     "text": [
      "Evaluating resnet50-imagenet...\n",
      "+--------------------+---------------------+---------------------+------------------+------------------+--------------+--------------+---------------+---------------+\n",
      "|   overall_accuracy |   overall_precision |   average_precision |   overall_recall |   average_recall |   overall_f1 |   average_f1 |   overall_map |   average_map |\n",
      "+====================+=====================+=====================+==================+==================+==============+==============+===============+===============+\n",
      "|            0.22377 |             0.64043 |            0.535399 |         0.552848 |         0.427657 |     0.593425 |      0.46347 |      0.582858 |      0.434346 |\n",
      "+--------------------+---------------------+---------------------+------------------+------------------+--------------+--------------+---------------+---------------+\n"
     ]
    },
    {
     "name": "stderr",
     "output_type": "stream",
     "text": [
      " 22%|██▏       | 2/9 [01:34<05:44, 49.27s/it]"
     ]
    },
    {
     "name": "stdout",
     "output_type": "stream",
     "text": [
      "Evaluating vits-imagenet...\n",
      "+--------------------+---------------------+---------------------+------------------+------------------+--------------+--------------+---------------+---------------+\n",
      "|   overall_accuracy |   overall_precision |   average_precision |   overall_recall |   average_recall |   overall_f1 |   average_f1 |   overall_map |   average_map |\n",
      "+====================+=====================+=====================+==================+==================+==============+==============+===============+===============+\n",
      "|           0.237618 |            0.667313 |            0.561163 |         0.585549 |         0.456159 |     0.623763 |     0.490793 |      0.619212 |      0.463364 |\n",
      "+--------------------+---------------------+---------------------+------------------+------------------+--------------+--------------+---------------+---------------+\n"
     ]
    },
    {
     "name": "stderr",
     "output_type": "stream",
     "text": [
      " 33%|███▎      | 3/9 [01:55<03:39, 36.54s/it]"
     ]
    },
    {
     "name": "stdout",
     "output_type": "stream",
     "text": [
      "Evaluating resnet18-ssl4eol-moco...\n",
      "+--------------------+---------------------+---------------------+------------------+------------------+--------------+--------------+---------------+---------------+\n",
      "|   overall_accuracy |   overall_precision |   average_precision |   overall_recall |   average_recall |   overall_f1 |   average_f1 |   overall_map |   average_map |\n",
      "+====================+=====================+=====================+==================+==================+==============+==============+===============+===============+\n",
      "|            0.23293 |            0.661783 |              0.5612 |         0.586431 |         0.459789 |     0.621832 |     0.496511 |      0.614236 |      0.461983 |\n",
      "+--------------------+---------------------+---------------------+------------------+------------------+--------------+--------------+---------------+---------------+\n"
     ]
    },
    {
     "name": "stderr",
     "output_type": "stream",
     "text": [
      " 44%|████▍     | 4/9 [02:19<02:37, 31.44s/it]"
     ]
    },
    {
     "name": "stdout",
     "output_type": "stream",
     "text": [
      "Evaluating resnet18-ssl4eol-simclr...\n",
      "+--------------------+---------------------+---------------------+------------------+------------------+--------------+--------------+---------------+---------------+\n",
      "|   overall_accuracy |   overall_precision |   average_precision |   overall_recall |   average_recall |   overall_f1 |   average_f1 |   overall_map |   average_map |\n",
      "+====================+=====================+=====================+==================+==================+==============+==============+===============+===============+\n",
      "|           0.192776 |            0.581964 |            0.453455 |         0.497602 |          0.37139 |     0.536487 |     0.400562 |      0.514084 |      0.368676 |\n",
      "+--------------------+---------------------+---------------------+------------------+------------------+--------------+--------------+---------------+---------------+\n"
     ]
    },
    {
     "name": "stderr",
     "output_type": "stream",
     "text": [
      " 56%|█████▌    | 5/9 [02:42<01:53, 28.47s/it]"
     ]
    },
    {
     "name": "stdout",
     "output_type": "stream",
     "text": [
      "Evaluating resnet50-ssl4eol-moco...\n",
      "+--------------------+---------------------+---------------------+------------------+------------------+--------------+--------------+---------------+---------------+\n",
      "|   overall_accuracy |   overall_precision |   average_precision |   overall_recall |   average_recall |   overall_f1 |   average_f1 |   overall_map |   average_map |\n",
      "+====================+=====================+=====================+==================+==================+==============+==============+===============+===============+\n",
      "|           0.222332 |            0.642362 |            0.534392 |         0.570517 |         0.444464 |     0.604311 |     0.476548 |        0.5934 |      0.443103 |\n",
      "+--------------------+---------------------+---------------------+------------------+------------------+--------------+--------------+---------------+---------------+\n"
     ]
    },
    {
     "name": "stderr",
     "output_type": "stream",
     "text": [
      " 67%|██████▋   | 6/9 [03:40<01:55, 38.42s/it]"
     ]
    },
    {
     "name": "stdout",
     "output_type": "stream",
     "text": [
      "Evaluating resnet50-ssl4eol-simclr...\n",
      "+--------------------+---------------------+---------------------+------------------+------------------+--------------+--------------+---------------+---------------+\n",
      "|   overall_accuracy |   overall_precision |   average_precision |   overall_recall |   average_recall |   overall_f1 |   average_f1 |   overall_map |   average_map |\n",
      "+====================+=====================+=====================+==================+==================+==============+==============+===============+===============+\n",
      "|           0.202247 |             0.59981 |            0.470933 |         0.517634 |         0.392173 |     0.555701 |     0.420365 |      0.538564 |      0.387963 |\n",
      "+--------------------+---------------------+---------------------+------------------+------------------+--------------+--------------+---------------+---------------+\n"
     ]
    },
    {
     "name": "stderr",
     "output_type": "stream",
     "text": [
      " 78%|███████▊  | 7/9 [04:35<01:27, 43.90s/it]"
     ]
    },
    {
     "name": "stdout",
     "output_type": "stream",
     "text": [
      "Evaluating vits-ssl4eol-moco...\n",
      "+--------------------+---------------------+---------------------+------------------+------------------+--------------+--------------+---------------+---------------+\n",
      "|   overall_accuracy |   overall_precision |   average_precision |   overall_recall |   average_recall |   overall_f1 |   average_f1 |   overall_map |   average_map |\n",
      "+====================+=====================+=====================+==================+==================+==============+==============+===============+===============+\n",
      "|           0.248812 |            0.682044 |            0.586692 |         0.615951 |          0.49983 |     0.647315 |     0.529707 |      0.644567 |      0.499811 |\n",
      "+--------------------+---------------------+---------------------+------------------+------------------+--------------+--------------+---------------+---------------+\n"
     ]
    },
    {
     "name": "stderr",
     "output_type": "stream",
     "text": [
      " 89%|████████▉ | 8/9 [04:56<00:36, 36.59s/it]"
     ]
    },
    {
     "name": "stdout",
     "output_type": "stream",
     "text": [
      "Evaluating vits-ssl4eol-simclr...\n",
      "+--------------------+---------------------+---------------------+------------------+------------------+--------------+--------------+---------------+---------------+\n",
      "|   overall_accuracy |   overall_precision |   average_precision |   overall_recall |   average_recall |   overall_f1 |   average_f1 |   overall_map |   average_map |\n",
      "+====================+=====================+=====================+==================+==================+==============+==============+===============+===============+\n",
      "|           0.262239 |            0.700201 |            0.624772 |         0.642703 |         0.537459 |     0.670222 |     0.570857 |      0.670367 |      0.537914 |\n",
      "+--------------------+---------------------+---------------------+------------------+------------------+--------------+--------------+---------------+---------------+\n"
     ]
    },
    {
     "name": "stderr",
     "output_type": "stream",
     "text": [
      "100%|██████████| 9/9 [05:16<00:00, 35.20s/it]\n"
     ]
    }
   ],
   "source": [
    "# Save predictions\n",
    "all_metrics = dict()\n",
    "for name in tqdm(models, total=len(models)):\n",
    "    print(f\"Evaluating {name}...\")\n",
    "    filename = os.path.join(output_dir, f\"bigearthnet-{name}.npz\")\n",
    "    embeddings = np.load(filename)\n",
    "    x_train, y_train, x_test, y_test = (\n",
    "        embeddings[\"x_train\"],\n",
    "        embeddings[\"y_train\"],\n",
    "        embeddings[\"x_test\"],\n",
    "        embeddings[\"y_test\"],\n",
    "    )\n",
    "    metrics = eval_knn(\n",
    "        x_train, y_train, x_test, y_test, k=k, scale=False, multilabel=True, faiss=True\n",
    "    )\n",
    "    all_metrics[name] = metrics\n",
    "\n",
    "pd.DataFrame(all_metrics).T.to_csv(\"bigearthnet-knn-results.csv\")"
   ]
  },
  {
   "cell_type": "code",
   "execution_count": null,
   "id": "0bc6efd2",
   "metadata": {},
   "outputs": [
    {
     "name": "stderr",
     "output_type": "stream",
     "text": [
      "  0%|          | 0/9 [00:00<?, ?it/s]"
     ]
    },
    {
     "name": "stdout",
     "output_type": "stream",
     "text": [
      "Evaluating resnet18-imagenet...\n"
     ]
    },
    {
     "name": "stderr",
     "output_type": "stream",
     "text": [
      "  0%|          | 0/9 [00:05<?, ?it/s]\n"
     ]
    }
   ],
   "source": [
    "all_metrics = dict()\n",
    "for name in tqdm(models, total=len(models)):\n",
    "    print(f\"Evaluating {name}...\")\n",
    "    filename = os.path.join(output_dir, f\"bigearthnet-{name}.npz\")\n",
    "    embeddings = np.load(filename)\n",
    "    x_train, y_train, x_test, y_test = (\n",
    "        embeddings[\"x_train\"],\n",
    "        embeddings[\"y_train\"],\n",
    "        embeddings[\"x_test\"],\n",
    "        embeddings[\"y_test\"],\n",
    "    )\n",
    "    metrics = eval_linear_probe(x_train, y_train, x_test, y_test, multilabel=True)\n",
    "    all_metrics[name] = metrics\n",
    "\n",
    "pd.DataFrame(all_metrics).T.to_csv(\"bigearthnet-lp-results.csv\")"
   ]
  }
 ],
 "metadata": {
  "kernelspec": {
   "display_name": "torchgeo",
   "language": "python",
   "name": "python3"
  },
  "language_info": {
   "codemirror_mode": {
    "name": "ipython",
    "version": 3
   },
   "file_extension": ".py",
   "mimetype": "text/x-python",
   "name": "python",
   "nbconvert_exporter": "python",
   "pygments_lexer": "ipython3",
   "version": "3.11.11"
  }
 },
 "nbformat": 4,
 "nbformat_minor": 5
}
