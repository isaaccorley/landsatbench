{
 "cells": [
  {
   "cell_type": "code",
   "execution_count": null,
   "id": "2a6e3161",
   "metadata": {},
   "outputs": [],
   "source": [
    "# needs terratorch installed `pip install terratorch`\n",
    "import sys\n",
    "\n",
    "sys.path.append(\"..\")\n",
    "\n",
    "import os\n",
    "\n",
    "import kornia.augmentation as K\n",
    "import numpy as np\n",
    "import torch\n",
    "from landsatbench.datamodule import LandsatDataModule\n",
    "from landsatbench.embed import extract_features\n",
    "from landsatbench.eval import eval_knn, eval_linear_probe\n",
    "\n",
    "root = \"../data\"\n",
    "output_dir = \"../embeddings\"\n",
    "os.makedirs(output_dir, exist_ok=True)\n",
    "\n",
    "k = 5\n",
    "device = torch.device(\"cuda\" if torch.cuda.is_available() else \"cpu\")\n",
    "model_name = \"satlas_swinv2b\""
   ]
  },
  {
   "cell_type": "markdown",
   "id": "9529665b",
   "metadata": {},
   "source": [
    "### EuroSAT-L"
   ]
  },
  {
   "cell_type": "code",
   "execution_count": 2,
   "id": "de0177f1",
   "metadata": {},
   "outputs": [],
   "source": [
    "from torchgeo.models import Swin_V2_B_Weights, swin_v2_b\n",
    "from torchvision.models import swin_v2_b\n",
    "\n",
    "\n",
    "def create_model(weights, **kwargs):\n",
    "    model = swin_v2_b(weights=None, **kwargs)\n",
    "    num_channels = weights.meta[\"in_chans\"]\n",
    "    out_channels = model.features[0][0].out_channels\n",
    "    model.features[0][0] = torch.nn.Conv2d(\n",
    "        num_channels, out_channels, kernel_size=(4, 4), stride=(4, 4)\n",
    "    )\n",
    "    state_dict = weights.get_state_dict(progress=True)\n",
    "    model.load_state_dict(state_dict, strict=False)\n",
    "    model.head = torch.nn.Identity()  # remove head\n",
    "    return model\n",
    "\n",
    "\n",
    "model = create_model(weights=Swin_V2_B_Weights.LANDSAT_SI_SATLAS)"
   ]
  },
  {
   "cell_type": "code",
   "execution_count": 21,
   "id": "696dceda",
   "metadata": {},
   "outputs": [
    {
     "name": "stdout",
     "output_type": "stream",
     "text": [
      "torch.Size([1, 1024])\n"
     ]
    }
   ],
   "source": [
    "with torch.inference_mode():\n",
    "    x = torch.randn(1, 11, 256, 256)\n",
    "    print(model(x).shape)  # should be [1, 1024, 16, 16]"
   ]
  },
  {
   "cell_type": "code",
   "execution_count": null,
   "id": "e5b4d900",
   "metadata": {},
   "outputs": [],
   "source": [
    "import torch.nn as nn\n",
    "from kornia.contrib import Lambda\n",
    "from torchgeo.transforms.transforms import _Clamp\n",
    "\n",
    "satlas_transforms = nn.Sequential(\n",
    "    K.Resize(256),\n",
    "    K.Normalize(mean=torch.tensor(4000), std=torch.tensor(16320)),\n",
    "    _Clamp(p=1, min=0, max=1),\n",
    "    # pad 4 channels to 11 channels from b,7,h,w to b,11,h,w\n",
    "    Lambda(lambda x: torch.cat([x, torch.zeros_like(x[:, :4])], dim=1)),\n",
    ")\n",
    "\n",
    "dm = LandsatDataModule(name=\"eurosat\", root=root, batch_size=32, num_workers=8, download=False)\n",
    "dm.prepare_data()\n",
    "dm.setup(\"fit\")"
   ]
  },
  {
   "cell_type": "code",
   "execution_count": null,
   "id": "4a28893a",
   "metadata": {},
   "outputs": [
    {
     "name": "stderr",
     "output_type": "stream",
     "text": [
      "  0%|          | 0/1013 [00:00<?, ?it/s]"
     ]
    },
    {
     "name": "stderr",
     "output_type": "stream",
     "text": [
      "100%|██████████| 1013/1013 [01:44<00:00,  9.71it/s]\n",
      "100%|██████████| 338/338 [00:35<00:00,  9.57it/s]\n"
     ]
    }
   ],
   "source": [
    "dm.setup(\"fit\")\n",
    "x_train, y_train = extract_features(\n",
    "    model, dm.train_dataloader(), device, transforms=satlas_transforms\n",
    ")\n",
    "\n",
    "dm.setup(\"test\")\n",
    "x_test, y_test = extract_features(model, dm.test_dataloader(), device, transforms=satlas_transforms)\n",
    "\n",
    "filename = os.path.join(output_dir, f\"eurosat-{model_name}.npz\")\n",
    "np.savez(\n",
    "    filename,\n",
    "    x_train=x_train,\n",
    "    y_train=y_train.astype(np.int16),\n",
    "    x_test=x_test,\n",
    "    y_test=y_test.astype(np.int16),\n",
    ")"
   ]
  },
  {
   "cell_type": "code",
   "execution_count": null,
   "id": "c0600731",
   "metadata": {},
   "outputs": [],
   "source": [
    "# KNN eval\n",
    "filename = os.path.join(output_dir, f\"eurosat-{model_name}.npz\")\n",
    "embeddings = np.load(filename)\n",
    "x_train, y_train, x_test, y_test = (\n",
    "    embeddings[\"x_train\"],\n",
    "    embeddings[\"y_train\"],\n",
    "    embeddings[\"x_test\"],\n",
    "    embeddings[\"y_test\"],\n",
    ")\n",
    "metrics = eval_knn(x_train, y_train, x_test, y_test, k=5, scale=True)"
   ]
  },
  {
   "cell_type": "code",
   "execution_count": null,
   "id": "abdd438b",
   "metadata": {},
   "outputs": [
    {
     "name": "stderr",
     "output_type": "stream",
     "text": [
      "/home/ubuntu/miniconda3/envs/torchgeo/lib/python3.11/site-packages/sklearn/linear_model/_sag.py:348: ConvergenceWarning: The max_iter was reached which means the coef_ did not converge\n",
      "  warnings.warn(\n"
     ]
    },
    {
     "name": "stdout",
     "output_type": "stream",
     "text": [
      "+--------------------+---------------------+---------------------+------------------+------------------+--------------+--------------+\n",
      "|   overall_accuracy |   overall_precision |   average_precision |   overall_recall |   average_recall |   overall_f1 |   average_f1 |\n",
      "+====================+=====================+=====================+==================+==================+==============+==============+\n",
      "|           0.895926 |            0.895926 |            0.901938 |         0.895926 |         0.893021 |     0.895926 |     0.895491 |\n",
      "+--------------------+---------------------+---------------------+------------------+------------------+--------------+--------------+\n"
     ]
    }
   ],
   "source": [
    "# Linear Probe\n",
    "filename = os.path.join(output_dir, f\"eurosat-{model_name}.npz\")\n",
    "embeddings = np.load(filename)\n",
    "x_train, y_train, x_test, y_test = (\n",
    "    embeddings[\"x_train\"],\n",
    "    embeddings[\"y_train\"],\n",
    "    embeddings[\"x_test\"],\n",
    "    embeddings[\"y_test\"],\n",
    ")\n",
    "metrics = eval_linear_probe(x_train, y_train, x_test, y_test, scale=True)"
   ]
  }
 ],
 "metadata": {
  "kernelspec": {
   "display_name": "torchgeo",
   "language": "python",
   "name": "python3"
  },
  "language_info": {
   "codemirror_mode": {
    "name": "ipython",
    "version": 3
   },
   "file_extension": ".py",
   "mimetype": "text/x-python",
   "name": "python",
   "nbconvert_exporter": "python",
   "pygments_lexer": "ipython3",
   "version": "3.11.11"
  }
 },
 "nbformat": 4,
 "nbformat_minor": 5
}
