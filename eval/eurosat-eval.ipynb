{
 "cells": [
  {
   "cell_type": "code",
   "execution_count": 1,
   "id": "9d8b4711",
   "metadata": {},
   "outputs": [],
   "source": [
    "import sys\n",
    "\n",
    "sys.path.append(\"..\")\n",
    "\n",
    "import os\n",
    "\n",
    "import kornia.augmentation as K\n",
    "import numpy as np\n",
    "import pandas as pd\n",
    "import timm\n",
    "import torch\n",
    "from landsatbench.datamodule import LandsatDataModule\n",
    "from landsatbench.datasets.eurosat import dataset_statistics\n",
    "from landsatbench.embed import extract_features\n",
    "from landsatbench.eval import eval_linear_probe\n",
    "from torchgeo.models import (\n",
    "    ResNet18_Weights,\n",
    "    ResNet50_Weights,\n",
    "    ViTSmall16_Weights,\n",
    "    resnet18,\n",
    "    resnet50,\n",
    "    vit_small_patch16_224,\n",
    ")\n",
    "from tqdm import tqdm\n",
    "\n",
    "output_dir = \"../embeddings\"\n",
    "os.makedirs(output_dir, exist_ok=True)\n",
    "\n",
    "k = 5\n",
    "device = torch.device(\"mps\")\n",
    "\n",
    "root = \"../data\"\n",
    "dm = LandsatDataModule(name=\"eurosat\", root=root, batch_size=16, num_workers=8)\n",
    "dm.prepare_data()"
   ]
  },
  {
   "cell_type": "markdown",
   "id": "2049862a",
   "metadata": {},
   "source": [
    "### Transforms"
   ]
  },
  {
   "cell_type": "code",
   "execution_count": 2,
   "id": "99c25f74",
   "metadata": {},
   "outputs": [],
   "source": [
    "# Imagenet transforms\n",
    "mins = dataset_statistics[\"min\"]\n",
    "maxs = dataset_statistics[\"max\"]\n",
    "means = dataset_statistics[\"mean\"] / maxs\n",
    "stds = dataset_statistics[\"std\"] / maxs\n",
    "imagenet_transforms = K.ImageSequential(\n",
    "    K.Normalize(mean=0.0, std=maxs), K.Normalize(mean=means, std=stds), K.Resize(224), keepdim=True\n",
    ")\n",
    "\n",
    "# SSL4EO-L transforms\n",
    "min = 7272.72727272727272727272\n",
    "max = 18181.81818181818181818181\n",
    "ssl4eol_transforms = K.ImageSequential(\n",
    "    K.Normalize(mean=min, std=1.0),\n",
    "    K.Normalize(mean=0.0, std=max - min),\n",
    "    K.Resize(224),\n",
    "    keepdim=True,\n",
    ")"
   ]
  },
  {
   "cell_type": "markdown",
   "id": "5d1ac0c0",
   "metadata": {},
   "source": [
    "## Models"
   ]
  },
  {
   "cell_type": "code",
   "execution_count": 3,
   "id": "64b07d4c",
   "metadata": {},
   "outputs": [],
   "source": [
    "models = {\n",
    "    \"resnet18-imagenet\": dict(\n",
    "        model=timm.create_model,\n",
    "        transforms=imagenet_transforms,\n",
    "        kwargs=dict(model_name=\"resnet18\", pretrained=True),\n",
    "    ),\n",
    "    \"resnet50-imagenet\": dict(\n",
    "        model=timm.create_model,\n",
    "        transforms=imagenet_transforms,\n",
    "        kwargs=dict(model_name=\"resnet50\", pretrained=True),\n",
    "    ),\n",
    "    \"vits-imagenet\": dict(\n",
    "        model=timm.create_model,\n",
    "        transforms=imagenet_transforms,\n",
    "        kwargs=dict(model_name=\"vit_small_patch16_224\", pretrained=True),\n",
    "    ),\n",
    "    \"resnet18-ssl4eol-moco\": dict(\n",
    "        model=resnet18,\n",
    "        transforms=ssl4eol_transforms,\n",
    "        kwargs=dict(weights=ResNet18_Weights.LANDSAT_OLI_SR_MOCO),\n",
    "    ),\n",
    "    \"resnet18-ssl4eol-simclr\": dict(\n",
    "        model=resnet18,\n",
    "        transforms=ssl4eol_transforms,\n",
    "        kwargs=dict(weights=ResNet18_Weights.LANDSAT_OLI_SR_SIMCLR),\n",
    "    ),\n",
    "    \"resnet50-ssl4eol-moco\": dict(\n",
    "        model=resnet50,\n",
    "        transforms=ssl4eol_transforms,\n",
    "        kwargs=dict(weights=ResNet50_Weights.LANDSAT_OLI_SR_MOCO),\n",
    "    ),\n",
    "    \"resnet50-ssl4eol-simclr\": dict(\n",
    "        model=resnet50,\n",
    "        transforms=ssl4eol_transforms,\n",
    "        kwargs=dict(weights=ResNet50_Weights.LANDSAT_OLI_SR_SIMCLR),\n",
    "    ),\n",
    "    \"vits-ssl4eol-moco\": dict(\n",
    "        model=vit_small_patch16_224,\n",
    "        transforms=ssl4eol_transforms,\n",
    "        kwargs=dict(weights=ViTSmall16_Weights.LANDSAT_OLI_SR_MOCO),\n",
    "    ),\n",
    "    \"vits-ssl4eol-simclr\": dict(\n",
    "        model=vit_small_patch16_224,\n",
    "        transforms=ssl4eol_transforms,\n",
    "        kwargs=dict(weights=ViTSmall16_Weights.LANDSAT_OLI_SR_SIMCLR),\n",
    "    ),\n",
    "}"
   ]
  },
  {
   "cell_type": "markdown",
   "id": "20d5876c",
   "metadata": {},
   "source": [
    "### Generate Embeddings"
   ]
  },
  {
   "cell_type": "code",
   "execution_count": null,
   "id": "789b6b53",
   "metadata": {},
   "outputs": [],
   "source": [
    "for name, v in tqdm(models.items(), total=len(models)):\n",
    "    print(f\"Evaluating {name}...\")\n",
    "    model = v[\"model\"](**v[\"kwargs\"], num_classes=0, in_chans=7).to(device)\n",
    "    transforms = v[\"transforms\"]\n",
    "\n",
    "    dm.setup(\"fit\")\n",
    "    x_train, y_train = extract_features(model, dm.train_dataloader(), device, transforms)\n",
    "\n",
    "    dm.setup(\"test\")\n",
    "    x_test, y_test = extract_features(model, dm.test_dataloader(), device, transforms)\n",
    "\n",
    "    filename = os.path.join(output_dir, f\"eurosat-{name}.npz\")\n",
    "    np.savez(\n",
    "        filename,\n",
    "        x_train=x_train,\n",
    "        y_train=y_train.astype(np.int16),\n",
    "        x_test=x_test,\n",
    "        y_test=y_test.astype(np.int16),\n",
    "    )"
   ]
  },
  {
   "cell_type": "markdown",
   "id": "2d94c6e2",
   "metadata": {},
   "source": [
    "### Compute Metrics"
   ]
  },
  {
   "cell_type": "code",
   "execution_count": null,
   "id": "d065547b",
   "metadata": {},
   "outputs": [
    {
     "name": "stderr",
     "output_type": "stream",
     "text": [
      " 11%|█         | 1/9 [00:00<00:01,  5.68it/s]"
     ]
    },
    {
     "name": "stdout",
     "output_type": "stream",
     "text": [
      "+--------------+--------------+---------------------+---------------------+------------------+------------------+------------+\n",
      "|   f1_average |   f1_overall |   precision_overall |   precision_average |   recall_overall |   recall_average |   accuracy |\n",
      "+==============+==============+=====================+=====================+==================+==================+============+\n",
      "|     0.753939 |     0.762037 |            0.762037 |            0.763046 |         0.762037 |         0.752965 |   0.762037 |\n",
      "+--------------+--------------+---------------------+---------------------+------------------+------------------+------------+\n"
     ]
    },
    {
     "name": "stderr",
     "output_type": "stream",
     "text": [
      " 33%|███▎      | 3/9 [00:01<00:01,  3.00it/s]"
     ]
    },
    {
     "name": "stdout",
     "output_type": "stream",
     "text": [
      "+--------------+--------------+---------------------+---------------------+------------------+------------------+------------+\n",
      "|   f1_average |   f1_overall |   precision_overall |   precision_average |   recall_overall |   recall_average |   accuracy |\n",
      "+==============+==============+=====================+=====================+==================+==================+============+\n",
      "|     0.761879 |     0.764074 |            0.764074 |            0.782292 |         0.764074 |          0.75653 |   0.764074 |\n",
      "+--------------+--------------+---------------------+---------------------+------------------+------------------+------------+\n",
      "+--------------+--------------+---------------------+---------------------+------------------+------------------+------------+\n",
      "|   f1_average |   f1_overall |   precision_overall |   precision_average |   recall_overall |   recall_average |   accuracy |\n",
      "+==============+==============+=====================+=====================+==================+==================+============+\n",
      "|     0.793088 |     0.794259 |            0.794259 |            0.811936 |         0.794259 |          0.78818 |   0.794259 |\n",
      "+--------------+--------------+---------------------+---------------------+------------------+------------------+------------+\n"
     ]
    },
    {
     "name": "stderr",
     "output_type": "stream",
     "text": [
      " 44%|████▍     | 4/9 [00:01<00:01,  3.62it/s]"
     ]
    },
    {
     "name": "stdout",
     "output_type": "stream",
     "text": [
      "+--------------+--------------+---------------------+---------------------+------------------+------------------+------------+\n",
      "|   f1_average |   f1_overall |   precision_overall |   precision_average |   recall_overall |   recall_average |   accuracy |\n",
      "+==============+==============+=====================+=====================+==================+==================+============+\n",
      "|     0.784216 |         0.79 |                0.79 |            0.791724 |             0.79 |         0.785625 |       0.79 |\n",
      "+--------------+--------------+---------------------+---------------------+------------------+------------------+------------+\n"
     ]
    },
    {
     "name": "stderr",
     "output_type": "stream",
     "text": [
      " 56%|█████▌    | 5/9 [00:01<00:00,  4.01it/s]"
     ]
    },
    {
     "name": "stdout",
     "output_type": "stream",
     "text": [
      "+--------------+--------------+---------------------+---------------------+------------------+------------------+------------+\n",
      "|   f1_average |   f1_overall |   precision_overall |   precision_average |   recall_overall |   recall_average |   accuracy |\n",
      "+==============+==============+=====================+=====================+==================+==================+============+\n",
      "|     0.695199 |     0.697963 |            0.697963 |            0.706667 |         0.697963 |         0.691464 |   0.697963 |\n",
      "+--------------+--------------+---------------------+---------------------+------------------+------------------+------------+\n"
     ]
    },
    {
     "name": "stderr",
     "output_type": "stream",
     "text": [
      " 67%|██████▋   | 6/9 [00:02<00:01,  2.47it/s]"
     ]
    },
    {
     "name": "stdout",
     "output_type": "stream",
     "text": [
      "+--------------+--------------+---------------------+---------------------+------------------+------------------+------------+\n",
      "|   f1_average |   f1_overall |   precision_overall |   precision_average |   recall_overall |   recall_average |   accuracy |\n",
      "+==============+==============+=====================+=====================+==================+==================+============+\n",
      "|     0.741937 |     0.751111 |            0.751111 |            0.746433 |         0.751111 |         0.742933 |   0.751111 |\n",
      "+--------------+--------------+---------------------+---------------------+------------------+------------------+------------+\n"
     ]
    },
    {
     "name": "stderr",
     "output_type": "stream",
     "text": [
      " 89%|████████▉ | 8/9 [00:03<00:00,  2.47it/s]"
     ]
    },
    {
     "name": "stdout",
     "output_type": "stream",
     "text": [
      "+--------------+--------------+---------------------+---------------------+------------------+------------------+------------+\n",
      "|   f1_average |   f1_overall |   precision_overall |   precision_average |   recall_overall |   recall_average |   accuracy |\n",
      "+==============+==============+=====================+=====================+==================+==================+============+\n",
      "|     0.717163 |     0.726111 |            0.726111 |             0.72301 |         0.726111 |         0.718711 |   0.726111 |\n",
      "+--------------+--------------+---------------------+---------------------+------------------+------------------+------------+\n",
      "+--------------+--------------+---------------------+---------------------+------------------+------------------+------------+\n",
      "|   f1_average |   f1_overall |   precision_overall |   precision_average |   recall_overall |   recall_average |   accuracy |\n",
      "+==============+==============+=====================+=====================+==================+==================+============+\n",
      "|     0.812096 |     0.815926 |            0.815926 |            0.820409 |         0.815926 |         0.811567 |   0.815926 |\n",
      "+--------------+--------------+---------------------+---------------------+------------------+------------------+------------+\n"
     ]
    },
    {
     "name": "stderr",
     "output_type": "stream",
     "text": [
      "100%|██████████| 9/9 [00:03<00:00,  2.82it/s]"
     ]
    },
    {
     "name": "stdout",
     "output_type": "stream",
     "text": [
      "+--------------+--------------+---------------------+---------------------+------------------+------------------+------------+\n",
      "|   f1_average |   f1_overall |   precision_overall |   precision_average |   recall_overall |   recall_average |   accuracy |\n",
      "+==============+==============+=====================+=====================+==================+==================+============+\n",
      "|     0.830212 |     0.834444 |            0.834444 |            0.839676 |         0.834444 |           0.8279 |   0.834444 |\n",
      "+--------------+--------------+---------------------+---------------------+------------------+------------------+------------+\n"
     ]
    },
    {
     "name": "stderr",
     "output_type": "stream",
     "text": [
      "\n"
     ]
    }
   ],
   "source": [
    "# Save predictions\n",
    "all_metrics = dict()\n",
    "for name in tqdm(models, total=len(models)):\n",
    "    filename = os.path.join(output_dir, f\"eurosat-{name}.npz\")\n",
    "    embeddings = np.load(filename)\n",
    "    x_train, y_train, x_test, y_test = (\n",
    "        embeddings[\"x_train\"],\n",
    "        embeddings[\"y_train\"],\n",
    "        embeddings[\"x_test\"],\n",
    "        embeddings[\"y_test\"],\n",
    "    )\n",
    "    metrics = eval(x_train, y_train, x_test, y_test, k=k, scale=False)\n",
    "    all_metrics[name] = metrics\n",
    "\n",
    "pd.DataFrame(all_metrics).T.to_csv(\"eurosat-knn-results.csv\")"
   ]
  },
  {
   "cell_type": "code",
   "execution_count": null,
   "id": "d717a9cf",
   "metadata": {},
   "outputs": [
    {
     "name": "stderr",
     "output_type": "stream",
     "text": [
      "  0%|          | 0/9 [00:00<?, ?it/s]"
     ]
    },
    {
     "name": "stdout",
     "output_type": "stream",
     "text": [
      "Evaluating resnet18-imagenet...\n"
     ]
    },
    {
     "name": "stderr",
     "output_type": "stream",
     "text": [
      " 11%|█         | 1/9 [00:45<06:00, 45.12s/it]"
     ]
    },
    {
     "name": "stdout",
     "output_type": "stream",
     "text": [
      "+--------------------+---------------------+---------------------+------------------+------------------+--------------+--------------+---------------+---------------+\n",
      "|   overall_accuracy |   overall_precision |   average_precision |   overall_recall |   average_recall |   overall_f1 |   average_f1 |   overall_map |   average_map |\n",
      "+====================+=====================+=====================+==================+==================+==============+==============+===============+===============+\n",
      "|           0.809815 |            0.809815 |            0.810086 |         0.809815 |         0.804619 |     0.809815 |     0.804464 |      0.891767 |      0.868487 |\n",
      "+--------------------+---------------------+---------------------+------------------+------------------+--------------+--------------+---------------+---------------+\n",
      "Evaluating resnet50-imagenet...\n"
     ]
    },
    {
     "name": "stderr",
     "output_type": "stream",
     "text": [
      "/Users/isaaccorley/miniconda3/envs/torchgeo/lib/python3.11/site-packages/sklearn/linear_model/_sag.py:348: ConvergenceWarning: The max_iter was reached which means the coef_ did not converge\n",
      "  warnings.warn(\n",
      "/Users/isaaccorley/miniconda3/envs/torchgeo/lib/python3.11/site-packages/sklearn/linear_model/_sag.py:348: ConvergenceWarning: The max_iter was reached which means the coef_ did not converge\n",
      "  warnings.warn(\n",
      "/Users/isaaccorley/miniconda3/envs/torchgeo/lib/python3.11/site-packages/sklearn/linear_model/_sag.py:348: ConvergenceWarning: The max_iter was reached which means the coef_ did not converge\n",
      "  warnings.warn(\n",
      "/Users/isaaccorley/miniconda3/envs/torchgeo/lib/python3.11/site-packages/sklearn/linear_model/_sag.py:348: ConvergenceWarning: The max_iter was reached which means the coef_ did not converge\n",
      "  warnings.warn(\n",
      "/Users/isaaccorley/miniconda3/envs/torchgeo/lib/python3.11/site-packages/sklearn/linear_model/_sag.py:348: ConvergenceWarning: The max_iter was reached which means the coef_ did not converge\n",
      "  warnings.warn(\n",
      "/Users/isaaccorley/miniconda3/envs/torchgeo/lib/python3.11/site-packages/sklearn/linear_model/_sag.py:348: ConvergenceWarning: The max_iter was reached which means the coef_ did not converge\n",
      "  warnings.warn(\n",
      "/Users/isaaccorley/miniconda3/envs/torchgeo/lib/python3.11/site-packages/sklearn/linear_model/_sag.py:348: ConvergenceWarning: The max_iter was reached which means the coef_ did not converge\n",
      "  warnings.warn(\n",
      "/Users/isaaccorley/miniconda3/envs/torchgeo/lib/python3.11/site-packages/sklearn/linear_model/_sag.py:348: ConvergenceWarning: The max_iter was reached which means the coef_ did not converge\n",
      "  warnings.warn(\n",
      "/Users/isaaccorley/miniconda3/envs/torchgeo/lib/python3.11/site-packages/sklearn/linear_model/_sag.py:348: ConvergenceWarning: The max_iter was reached which means the coef_ did not converge\n",
      "  warnings.warn(\n",
      "/Users/isaaccorley/miniconda3/envs/torchgeo/lib/python3.11/site-packages/sklearn/linear_model/_sag.py:348: ConvergenceWarning: The max_iter was reached which means the coef_ did not converge\n",
      "  warnings.warn(\n",
      " 22%|██▏       | 2/9 [15:44<1:03:52, 547.55s/it]"
     ]
    },
    {
     "name": "stdout",
     "output_type": "stream",
     "text": [
      "+--------------------+---------------------+---------------------+------------------+------------------+--------------+--------------+---------------+---------------+\n",
      "|   overall_accuracy |   overall_precision |   average_precision |   overall_recall |   average_recall |   overall_f1 |   average_f1 |   overall_map |   average_map |\n",
      "+====================+=====================+=====================+==================+==================+==============+==============+===============+===============+\n",
      "|               0.79 |                0.79 |            0.792642 |             0.79 |         0.784506 |         0.79 |     0.784881 |      0.882747 |      0.860991 |\n",
      "+--------------------+---------------------+---------------------+------------------+------------------+--------------+--------------+---------------+---------------+\n",
      "Evaluating vits-imagenet...\n"
     ]
    },
    {
     "name": "stderr",
     "output_type": "stream",
     "text": [
      "/Users/isaaccorley/miniconda3/envs/torchgeo/lib/python3.11/site-packages/sklearn/linear_model/_sag.py:348: ConvergenceWarning: The max_iter was reached which means the coef_ did not converge\n",
      "  warnings.warn(\n",
      "/Users/isaaccorley/miniconda3/envs/torchgeo/lib/python3.11/site-packages/sklearn/linear_model/_sag.py:348: ConvergenceWarning: The max_iter was reached which means the coef_ did not converge\n",
      "  warnings.warn(\n",
      "/Users/isaaccorley/miniconda3/envs/torchgeo/lib/python3.11/site-packages/sklearn/linear_model/_sag.py:348: ConvergenceWarning: The max_iter was reached which means the coef_ did not converge\n",
      "  warnings.warn(\n",
      "/Users/isaaccorley/miniconda3/envs/torchgeo/lib/python3.11/site-packages/sklearn/linear_model/_sag.py:348: ConvergenceWarning: The max_iter was reached which means the coef_ did not converge\n",
      "  warnings.warn(\n",
      "/Users/isaaccorley/miniconda3/envs/torchgeo/lib/python3.11/site-packages/sklearn/linear_model/_sag.py:348: ConvergenceWarning: The max_iter was reached which means the coef_ did not converge\n",
      "  warnings.warn(\n",
      "/Users/isaaccorley/miniconda3/envs/torchgeo/lib/python3.11/site-packages/sklearn/linear_model/_sag.py:348: ConvergenceWarning: The max_iter was reached which means the coef_ did not converge\n",
      "  warnings.warn(\n",
      "/Users/isaaccorley/miniconda3/envs/torchgeo/lib/python3.11/site-packages/sklearn/linear_model/_sag.py:348: ConvergenceWarning: The max_iter was reached which means the coef_ did not converge\n",
      "  warnings.warn(\n",
      "/Users/isaaccorley/miniconda3/envs/torchgeo/lib/python3.11/site-packages/sklearn/linear_model/_sag.py:348: ConvergenceWarning: The max_iter was reached which means the coef_ did not converge\n",
      "  warnings.warn(\n",
      "/Users/isaaccorley/miniconda3/envs/torchgeo/lib/python3.11/site-packages/sklearn/linear_model/_sag.py:348: ConvergenceWarning: The max_iter was reached which means the coef_ did not converge\n",
      "  warnings.warn(\n",
      " 33%|███▎      | 3/9 [18:37<37:38, 376.37s/it]  "
     ]
    },
    {
     "name": "stdout",
     "output_type": "stream",
     "text": [
      "+--------------------+---------------------+---------------------+------------------+------------------+--------------+--------------+---------------+---------------+\n",
      "|   overall_accuracy |   overall_precision |   average_precision |   overall_recall |   average_recall |   overall_f1 |   average_f1 |   overall_map |   average_map |\n",
      "+====================+=====================+=====================+==================+==================+==============+==============+===============+===============+\n",
      "|           0.863889 |            0.863889 |            0.869926 |         0.863889 |         0.860897 |     0.863889 |     0.863187 |      0.931559 |      0.920612 |\n",
      "+--------------------+---------------------+---------------------+------------------+------------------+--------------+--------------+---------------+---------------+\n",
      "Evaluating resnet18-ssl4eol-moco...\n"
     ]
    },
    {
     "name": "stderr",
     "output_type": "stream",
     "text": [
      "/Users/isaaccorley/miniconda3/envs/torchgeo/lib/python3.11/site-packages/sklearn/linear_model/_sag.py:348: ConvergenceWarning: The max_iter was reached which means the coef_ did not converge\n",
      "  warnings.warn(\n",
      "/Users/isaaccorley/miniconda3/envs/torchgeo/lib/python3.11/site-packages/sklearn/linear_model/_sag.py:348: ConvergenceWarning: The max_iter was reached which means the coef_ did not converge\n",
      "  warnings.warn(\n",
      "/Users/isaaccorley/miniconda3/envs/torchgeo/lib/python3.11/site-packages/sklearn/linear_model/_sag.py:348: ConvergenceWarning: The max_iter was reached which means the coef_ did not converge\n",
      "  warnings.warn(\n",
      "/Users/isaaccorley/miniconda3/envs/torchgeo/lib/python3.11/site-packages/sklearn/linear_model/_sag.py:348: ConvergenceWarning: The max_iter was reached which means the coef_ did not converge\n",
      "  warnings.warn(\n",
      "/Users/isaaccorley/miniconda3/envs/torchgeo/lib/python3.11/site-packages/sklearn/linear_model/_sag.py:348: ConvergenceWarning: The max_iter was reached which means the coef_ did not converge\n",
      "  warnings.warn(\n",
      "/Users/isaaccorley/miniconda3/envs/torchgeo/lib/python3.11/site-packages/sklearn/linear_model/_sag.py:348: ConvergenceWarning: The max_iter was reached which means the coef_ did not converge\n",
      "  warnings.warn(\n",
      "/Users/isaaccorley/miniconda3/envs/torchgeo/lib/python3.11/site-packages/sklearn/linear_model/_sag.py:348: ConvergenceWarning: The max_iter was reached which means the coef_ did not converge\n",
      "  warnings.warn(\n",
      "/Users/isaaccorley/miniconda3/envs/torchgeo/lib/python3.11/site-packages/sklearn/linear_model/_sag.py:348: ConvergenceWarning: The max_iter was reached which means the coef_ did not converge\n",
      "  warnings.warn(\n",
      "/Users/isaaccorley/miniconda3/envs/torchgeo/lib/python3.11/site-packages/sklearn/linear_model/_sag.py:348: ConvergenceWarning: The max_iter was reached which means the coef_ did not converge\n",
      "  warnings.warn(\n",
      "/Users/isaaccorley/miniconda3/envs/torchgeo/lib/python3.11/site-packages/sklearn/linear_model/_sag.py:348: ConvergenceWarning: The max_iter was reached which means the coef_ did not converge\n",
      "  warnings.warn(\n",
      " 44%|████▍     | 4/9 [22:35<26:49, 321.85s/it]"
     ]
    },
    {
     "name": "stdout",
     "output_type": "stream",
     "text": [
      "+--------------------+---------------------+---------------------+------------------+------------------+--------------+--------------+---------------+---------------+\n",
      "|   overall_accuracy |   overall_precision |   average_precision |   overall_recall |   average_recall |   overall_f1 |   average_f1 |   overall_map |   average_map |\n",
      "+====================+=====================+=====================+==================+==================+==============+==============+===============+===============+\n",
      "|           0.828333 |            0.828333 |             0.82928 |         0.828333 |         0.823269 |     0.828333 |       0.8237 |      0.912005 |      0.891593 |\n",
      "+--------------------+---------------------+---------------------+------------------+------------------+--------------+--------------+---------------+---------------+\n",
      "Evaluating resnet18-ssl4eol-simclr...\n"
     ]
    },
    {
     "name": "stderr",
     "output_type": "stream",
     "text": [
      " 56%|█████▌    | 5/9 [24:24<16:20, 245.13s/it]"
     ]
    },
    {
     "name": "stdout",
     "output_type": "stream",
     "text": [
      "+--------------------+---------------------+---------------------+------------------+------------------+--------------+--------------+---------------+---------------+\n",
      "|   overall_accuracy |   overall_precision |   average_precision |   overall_recall |   average_recall |   overall_f1 |   average_f1 |   overall_map |   average_map |\n",
      "+====================+=====================+=====================+==================+==================+==============+==============+===============+===============+\n",
      "|              0.685 |               0.685 |            0.671323 |            0.685 |         0.682865 |        0.685 |      0.67236 |      0.772236 |       0.72561 |\n",
      "+--------------------+---------------------+---------------------+------------------+------------------+--------------+--------------+---------------+---------------+\n",
      "Evaluating resnet50-ssl4eol-moco...\n"
     ]
    },
    {
     "name": "stderr",
     "output_type": "stream",
     "text": [
      " 67%|██████▋   | 6/9 [33:36<17:28, 349.49s/it]"
     ]
    },
    {
     "name": "stdout",
     "output_type": "stream",
     "text": [
      "+--------------------+---------------------+---------------------+------------------+------------------+--------------+--------------+---------------+---------------+\n",
      "|   overall_accuracy |   overall_precision |   average_precision |   overall_recall |   average_recall |   overall_f1 |   average_f1 |   overall_map |   average_map |\n",
      "+====================+=====================+=====================+==================+==================+==============+==============+===============+===============+\n",
      "|            0.82463 |             0.82463 |             0.82589 |          0.82463 |         0.820793 |      0.82463 |     0.820525 |      0.907131 |      0.885899 |\n",
      "+--------------------+---------------------+---------------------+------------------+------------------+--------------+--------------+---------------+---------------+\n",
      "Evaluating resnet50-ssl4eol-simclr...\n"
     ]
    },
    {
     "name": "stderr",
     "output_type": "stream",
     "text": [
      " 78%|███████▊  | 7/9 [44:15<14:48, 444.20s/it]"
     ]
    },
    {
     "name": "stdout",
     "output_type": "stream",
     "text": [
      "+--------------------+---------------------+---------------------+------------------+------------------+--------------+--------------+---------------+---------------+\n",
      "|   overall_accuracy |   overall_precision |   average_precision |   overall_recall |   average_recall |   overall_f1 |   average_f1 |   overall_map |   average_map |\n",
      "+====================+=====================+=====================+==================+==================+==============+==============+===============+===============+\n",
      "|            0.73463 |             0.73463 |            0.727464 |          0.73463 |         0.729573 |      0.73463 |     0.724979 |      0.830385 |      0.790142 |\n",
      "+--------------------+---------------------+---------------------+------------------+------------------+--------------+--------------+---------------+---------------+\n",
      "Evaluating vits-ssl4eol-moco...\n"
     ]
    },
    {
     "name": "stderr",
     "output_type": "stream",
     "text": [
      "/Users/isaaccorley/miniconda3/envs/torchgeo/lib/python3.11/site-packages/sklearn/linear_model/_sag.py:348: ConvergenceWarning: The max_iter was reached which means the coef_ did not converge\n",
      "  warnings.warn(\n",
      "/Users/isaaccorley/miniconda3/envs/torchgeo/lib/python3.11/site-packages/sklearn/linear_model/_sag.py:348: ConvergenceWarning: The max_iter was reached which means the coef_ did not converge\n",
      "  warnings.warn(\n",
      "/Users/isaaccorley/miniconda3/envs/torchgeo/lib/python3.11/site-packages/sklearn/linear_model/_sag.py:348: ConvergenceWarning: The max_iter was reached which means the coef_ did not converge\n",
      "  warnings.warn(\n",
      "/Users/isaaccorley/miniconda3/envs/torchgeo/lib/python3.11/site-packages/sklearn/linear_model/_sag.py:348: ConvergenceWarning: The max_iter was reached which means the coef_ did not converge\n",
      "  warnings.warn(\n",
      "/Users/isaaccorley/miniconda3/envs/torchgeo/lib/python3.11/site-packages/sklearn/linear_model/_sag.py:348: ConvergenceWarning: The max_iter was reached which means the coef_ did not converge\n",
      "  warnings.warn(\n",
      "/Users/isaaccorley/miniconda3/envs/torchgeo/lib/python3.11/site-packages/sklearn/linear_model/_sag.py:348: ConvergenceWarning: The max_iter was reached which means the coef_ did not converge\n",
      "  warnings.warn(\n",
      "/Users/isaaccorley/miniconda3/envs/torchgeo/lib/python3.11/site-packages/sklearn/linear_model/_sag.py:348: ConvergenceWarning: The max_iter was reached which means the coef_ did not converge\n",
      "  warnings.warn(\n",
      "/Users/isaaccorley/miniconda3/envs/torchgeo/lib/python3.11/site-packages/sklearn/linear_model/_sag.py:348: ConvergenceWarning: The max_iter was reached which means the coef_ did not converge\n",
      "  warnings.warn(\n",
      "/Users/isaaccorley/miniconda3/envs/torchgeo/lib/python3.11/site-packages/sklearn/linear_model/_sag.py:348: ConvergenceWarning: The max_iter was reached which means the coef_ did not converge\n",
      "  warnings.warn(\n",
      "/Users/isaaccorley/miniconda3/envs/torchgeo/lib/python3.11/site-packages/sklearn/linear_model/_sag.py:348: ConvergenceWarning: The max_iter was reached which means the coef_ did not converge\n",
      "  warnings.warn(\n",
      " 89%|████████▉ | 8/9 [47:19<06:01, 361.34s/it]"
     ]
    },
    {
     "name": "stdout",
     "output_type": "stream",
     "text": [
      "+--------------------+---------------------+---------------------+------------------+------------------+--------------+--------------+---------------+---------------+\n",
      "|   overall_accuracy |   overall_precision |   average_precision |   overall_recall |   average_recall |   overall_f1 |   average_f1 |   overall_map |   average_map |\n",
      "+====================+=====================+=====================+==================+==================+==============+==============+===============+===============+\n",
      "|           0.887963 |            0.887963 |            0.894178 |         0.887963 |         0.885518 |     0.887963 |     0.887755 |      0.953285 |      0.943742 |\n",
      "+--------------------+---------------------+---------------------+------------------+------------------+--------------+--------------+---------------+---------------+\n",
      "Evaluating vits-ssl4eol-simclr...\n"
     ]
    },
    {
     "name": "stderr",
     "output_type": "stream",
     "text": [
      "100%|██████████| 9/9 [48:25<00:00, 322.83s/it]"
     ]
    },
    {
     "name": "stdout",
     "output_type": "stream",
     "text": [
      "+--------------------+---------------------+---------------------+------------------+------------------+--------------+--------------+---------------+---------------+\n",
      "|   overall_accuracy |   overall_precision |   average_precision |   overall_recall |   average_recall |   overall_f1 |   average_f1 |   overall_map |   average_map |\n",
      "+====================+=====================+=====================+==================+==================+==============+==============+===============+===============+\n",
      "|           0.776481 |            0.776481 |            0.768097 |         0.776481 |         0.768796 |     0.776481 |     0.763816 |      0.858516 |      0.823774 |\n",
      "+--------------------+---------------------+---------------------+------------------+------------------+--------------+--------------+---------------+---------------+\n"
     ]
    },
    {
     "name": "stderr",
     "output_type": "stream",
     "text": [
      "\n"
     ]
    }
   ],
   "source": [
    "all_metrics = dict()\n",
    "for name in tqdm(models, total=len(models)):\n",
    "    print(f\"Evaluating {name}...\")\n",
    "    filename = os.path.join(output_dir, f\"eurosat-{name}.npz\")\n",
    "    embeddings = np.load(filename)\n",
    "    x_train, y_train, x_test, y_test = (\n",
    "        embeddings[\"x_train\"],\n",
    "        embeddings[\"y_train\"],\n",
    "        embeddings[\"x_test\"],\n",
    "        embeddings[\"y_test\"],\n",
    "    )\n",
    "    metrics = eval_linear_probe(x_train, y_train, x_test, y_test)\n",
    "    all_metrics[name] = metrics\n",
    "\n",
    "pd.DataFrame(all_metrics).T.to_csv(\"eurosat-lp-results.csv\")"
   ]
  }
 ],
 "metadata": {
  "kernelspec": {
   "display_name": "torchgeo",
   "language": "python",
   "name": "python3"
  },
  "language_info": {
   "codemirror_mode": {
    "name": "ipython",
    "version": 3
   },
   "file_extension": ".py",
   "mimetype": "text/x-python",
   "name": "python",
   "nbconvert_exporter": "python",
   "pygments_lexer": "ipython3",
   "version": "3.11.11"
  }
 },
 "nbformat": 4,
 "nbformat_minor": 5
}
