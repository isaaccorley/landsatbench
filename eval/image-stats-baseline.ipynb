{
 "cells": [
  {
   "cell_type": "code",
   "execution_count": null,
   "id": "972736d0",
   "metadata": {},
   "outputs": [],
   "source": [
    "import sys\n",
    "\n",
    "sys.path.append(\"..\")\n",
    "\n",
    "import os\n",
    "\n",
    "import numpy as np\n",
    "import torch\n",
    "from landsatbench.datamodule import LandsatDataModule\n",
    "from landsatbench.embed import ImageStatisticsModel, extract_features\n",
    "from landsatbench.eval import eval_knn, eval_linear_probe\n",
    "\n",
    "root = \"../data\"\n",
    "output_dir = \"../embeddings\"\n",
    "os.makedirs(output_dir, exist_ok=True)\n",
    "\n",
    "k = 5\n",
    "device = torch.device(\"mps\")"
   ]
  },
  {
   "cell_type": "markdown",
   "id": "540c2c38",
   "metadata": {},
   "source": [
    "### EuroSAT-L"
   ]
  },
  {
   "cell_type": "code",
   "execution_count": null,
   "id": "13934907",
   "metadata": {},
   "outputs": [],
   "source": [
    "dm = LandsatDataModule(name=\"eurosat\", root=root, batch_size=16, num_workers=8, download=False)\n",
    "dm.prepare_data()\n",
    "dm.setup(\"fit\")\n",
    "model = ImageStatisticsModel()\n",
    "model = model.to(device)"
   ]
  },
  {
   "cell_type": "code",
   "execution_count": null,
   "id": "7fb27b941602401d91542211134fc71a",
   "metadata": {},
   "outputs": [
    {
     "name": "stderr",
     "output_type": "stream",
     "text": [
      "100%|██████████| 1013/1013 [00:19<00:00, 51.03it/s] \n",
      "100%|██████████| 338/338 [00:14<00:00, 23.09it/s] \n"
     ]
    }
   ],
   "source": [
    "dm.setup(\"fit\")\n",
    "x_train, y_train = extract_features(model, dm.train_dataloader(), device)\n",
    "\n",
    "dm.setup(\"test\")\n",
    "x_test, y_test = extract_features(model, dm.test_dataloader(), device)\n",
    "\n",
    "filename = os.path.join(output_dir, \"eurosat-imagestats.npz\")\n",
    "np.savez(\n",
    "    filename,\n",
    "    x_train=x_train,\n",
    "    y_train=y_train.astype(np.int16),\n",
    "    x_test=x_test,\n",
    "    y_test=y_test.astype(np.int16),\n",
    ")"
   ]
  },
  {
   "cell_type": "code",
   "execution_count": null,
   "id": "a4b1de3f",
   "metadata": {},
   "outputs": [
    {
     "name": "stdout",
     "output_type": "stream",
     "text": [
      "+--------------------+---------------------+---------------------+------------------+------------------+--------------+--------------+\n",
      "|   overall_accuracy |   overall_precision |   average_precision |   overall_recall |   average_recall |   overall_f1 |   average_f1 |\n",
      "+====================+=====================+=====================+==================+==================+==============+==============+\n",
      "|            0.78963 |             0.78963 |            0.784608 |          0.78963 |         0.782498 |      0.78963 |      0.78098 |\n",
      "+--------------------+---------------------+---------------------+------------------+------------------+--------------+--------------+\n"
     ]
    }
   ],
   "source": [
    "# KNN eval\n",
    "filename = os.path.join(output_dir, \"eurosat-imagestats.npz\")\n",
    "embeddings = np.load(filename)\n",
    "x_train, y_train, x_test, y_test = (\n",
    "    embeddings[\"x_train\"],\n",
    "    embeddings[\"y_train\"],\n",
    "    embeddings[\"x_test\"],\n",
    "    embeddings[\"y_test\"],\n",
    ")\n",
    "metrics = eval_knn(x_train, y_train, x_test, y_test, k=5, scale=True)"
   ]
  },
  {
   "cell_type": "code",
   "execution_count": null,
   "id": "6772e535",
   "metadata": {},
   "outputs": [
    {
     "name": "stdout",
     "output_type": "stream",
     "text": [
      "+--------------------+---------------------+---------------------+------------------+------------------+--------------+--------------+\n",
      "|   overall_accuracy |   overall_precision |   average_precision |   overall_recall |   average_recall |   overall_f1 |   average_f1 |\n",
      "+====================+=====================+=====================+==================+==================+==============+==============+\n",
      "|           0.740741 |            0.740741 |            0.733893 |         0.740741 |         0.731843 |     0.740741 |     0.728071 |\n",
      "+--------------------+---------------------+---------------------+------------------+------------------+--------------+--------------+\n"
     ]
    }
   ],
   "source": [
    "# LP eval\n",
    "filename = os.path.join(output_dir, \"eurosat-imagestats.npz\")\n",
    "embeddings = np.load(filename)\n",
    "x_train, y_train, x_test, y_test = (\n",
    "    embeddings[\"x_train\"],\n",
    "    embeddings[\"y_train\"],\n",
    "    embeddings[\"x_test\"],\n",
    "    embeddings[\"y_test\"],\n",
    ")\n",
    "metrics = eval_linear_probe(x_train, y_train, x_test, y_test, scale=True)"
   ]
  },
  {
   "cell_type": "markdown",
   "id": "9a43302d",
   "metadata": {},
   "source": [
    "### BigEarthNet-L"
   ]
  },
  {
   "cell_type": "code",
   "execution_count": 7,
   "id": "bb382f13",
   "metadata": {},
   "outputs": [
    {
     "name": "stdout",
     "output_type": "stream",
     "text": [
      "Archive ../data/bigearthnet-l.tar.gz already exists. Skipping download.\n",
      "Archive ../data/bigearthnet-l.tar.gz already exists. Skipping download.\n"
     ]
    }
   ],
   "source": [
    "dm = LandsatDataModule(name=\"bigearthnet\", root=root, batch_size=128, num_workers=8, download=False)\n",
    "dm.prepare_data()\n",
    "dm.setup(\"fit\")\n",
    "model = ImageStatisticsModel()\n",
    "model = model.to(device)"
   ]
  },
  {
   "cell_type": "code",
   "execution_count": null,
   "id": "acae54e37e7d407bbb7b55eff062a284",
   "metadata": {},
   "outputs": [],
   "source": [
    "dm.setup(\"fit\")\n",
    "x_train, y_train = extract_features(model, dm.train_dataloader(), device)\n",
    "\n",
    "dm.setup(\"test\")\n",
    "x_test, y_test = extract_features(model, dm.test_dataloader(), device)\n",
    "\n",
    "filename = os.path.join(output_dir, \"bigearthnet-imagestats.npz\")\n",
    "np.savez(\n",
    "    filename,\n",
    "    x_train=x_train,\n",
    "    y_train=y_train.astype(np.int16),\n",
    "    x_test=x_test,\n",
    "    y_test=y_test.astype(np.int16),\n",
    ")"
   ]
  },
  {
   "cell_type": "code",
   "execution_count": null,
   "id": "2e2f7210",
   "metadata": {},
   "outputs": [],
   "source": [
    "# KNN eval\n",
    "filename = os.path.join(output_dir, \"bigearthnet-imagestats.npz\")\n",
    "embeddings = np.load(filename)\n",
    "x_train, y_train, x_test, y_test = (\n",
    "    embeddings[\"x_train\"],\n",
    "    embeddings[\"y_train\"],\n",
    "    embeddings[\"x_test\"],\n",
    "    embeddings[\"y_test\"],\n",
    ")\n",
    "metrics = eval_knn(x_train, y_train, x_test, y_test, k=5, scale=True, multilabel=True)"
   ]
  },
  {
   "cell_type": "code",
   "execution_count": null,
   "id": "b4011775",
   "metadata": {},
   "outputs": [],
   "source": [
    "# LP eval\n",
    "filename = os.path.join(output_dir, \"bigearthnet-imagestats.npz\")\n",
    "embeddings = np.load(filename)\n",
    "x_train, y_train, x_test, y_test = (\n",
    "    embeddings[\"x_train\"],\n",
    "    embeddings[\"y_train\"],\n",
    "    embeddings[\"x_test\"],\n",
    "    embeddings[\"y_test\"],\n",
    ")\n",
    "metrics = eval_linear_probe(x_train, y_train, x_test, y_test, scale=True, multilabel=True)"
   ]
  },
  {
   "cell_type": "markdown",
   "id": "7562ee7d",
   "metadata": {},
   "source": [
    "### LC100"
   ]
  },
  {
   "cell_type": "code",
   "execution_count": 2,
   "id": "d4ff005e",
   "metadata": {},
   "outputs": [],
   "source": [
    "dm = LandsatDataModule(name=\"lc100\", root=root, batch_size=1, num_workers=8, download=False)\n",
    "dm.prepare_data()\n",
    "dm.setup(\"fit\")\n",
    "model = ImageStatisticsModel()\n",
    "model = model.to(device)"
   ]
  },
  {
   "cell_type": "code",
   "execution_count": 3,
   "id": "c927fdf0",
   "metadata": {},
   "outputs": [
    {
     "name": "stderr",
     "output_type": "stream",
     "text": [
      "100%|██████████| 5181/5181 [09:48<00:00,  8.80it/s]\n",
      "100%|██████████| 1726/1726 [03:22<00:00,  8.53it/s]\n"
     ]
    }
   ],
   "source": [
    "dm.setup(\"fit\")\n",
    "x_train, y_train = extract_features(model, dm.train_dataloader(), device)\n",
    "\n",
    "dm.setup(\"test\")\n",
    "x_test, y_test = extract_features(model, dm.test_dataloader(), device)\n",
    "\n",
    "filename = os.path.join(output_dir, \"lc100-imagestats.npz\")\n",
    "np.savez(\n",
    "    filename,\n",
    "    x_train=x_train,\n",
    "    y_train=y_train.astype(np.int16),\n",
    "    x_test=x_test,\n",
    "    y_test=y_test.astype(np.int16),\n",
    ")"
   ]
  },
  {
   "cell_type": "code",
   "execution_count": 4,
   "id": "90eae832",
   "metadata": {},
   "outputs": [
    {
     "name": "stderr",
     "output_type": "stream",
     "text": [
      "/Users/isaaccorley/miniconda3/envs/torchgeo/lib/python3.11/site-packages/sklearn/metrics/_classification.py:1565: UndefinedMetricWarning: Precision is ill-defined and being set to 0.0 in labels with no predicted samples. Use `zero_division` parameter to control this behavior.\n",
      "  _warn_prf(average, modifier, f\"{metric.capitalize()} is\", len(result))\n"
     ]
    },
    {
     "name": "stdout",
     "output_type": "stream",
     "text": [
      "+--------------------+---------------------+---------------------+------------------+------------------+--------------+--------------+---------------+---------------+\n",
      "|   overall_accuracy |   overall_precision |   average_precision |   overall_recall |   average_recall |   overall_f1 |   average_f1 |   overall_map |   average_map |\n",
      "+====================+=====================+=====================+==================+==================+==============+==============+===============+===============+\n",
      "|         0.00637312 |            0.593792 |            0.365575 |         0.576391 |         0.355167 |     0.584962 |     0.357161 |      0.562911 |      0.366211 |\n",
      "+--------------------+---------------------+---------------------+------------------+------------------+--------------+--------------+---------------+---------------+\n"
     ]
    }
   ],
   "source": [
    "# KNN eval\n",
    "filename = os.path.join(output_dir, \"lc100-imagestats.npz\")\n",
    "embeddings = np.load(filename)\n",
    "x_train, y_train, x_test, y_test = (\n",
    "    embeddings[\"x_train\"],\n",
    "    embeddings[\"y_train\"],\n",
    "    embeddings[\"x_test\"],\n",
    "    embeddings[\"y_test\"],\n",
    ")\n",
    "metrics = eval_knn(x_train, y_train, x_test, y_test, k=5, scale=True, multilabel=True)"
   ]
  },
  {
   "cell_type": "code",
   "execution_count": 5,
   "id": "bf8b660b",
   "metadata": {},
   "outputs": [
    {
     "name": "stdout",
     "output_type": "stream",
     "text": [
      "+--------------------+---------------------+---------------------+------------------+------------------+--------------+--------------+---------------+---------------+\n",
      "|   overall_accuracy |   overall_precision |   average_precision |   overall_recall |   average_recall |   overall_f1 |   average_f1 |   overall_map |   average_map |\n",
      "+====================+=====================+=====================+==================+==================+==============+==============+===============+===============+\n",
      "|         0.00521437 |            0.622087 |            0.367012 |         0.561877 |           0.3292 |     0.590451 |     0.335824 |      0.622671 |      0.368448 |\n",
      "+--------------------+---------------------+---------------------+------------------+------------------+--------------+--------------+---------------+---------------+\n"
     ]
    },
    {
     "name": "stderr",
     "output_type": "stream",
     "text": [
      "/Users/isaaccorley/miniconda3/envs/torchgeo/lib/python3.11/site-packages/sklearn/metrics/_classification.py:1565: UndefinedMetricWarning: Precision is ill-defined and being set to 0.0 in labels with no predicted samples. Use `zero_division` parameter to control this behavior.\n",
      "  _warn_prf(average, modifier, f\"{metric.capitalize()} is\", len(result))\n"
     ]
    }
   ],
   "source": [
    "# LP eval\n",
    "filename = os.path.join(output_dir, \"lc100-imagestats.npz\")\n",
    "embeddings = np.load(filename)\n",
    "x_train, y_train, x_test, y_test = (\n",
    "    embeddings[\"x_train\"],\n",
    "    embeddings[\"y_train\"],\n",
    "    embeddings[\"x_test\"],\n",
    "    embeddings[\"y_test\"],\n",
    ")\n",
    "metrics = eval_linear_probe(x_train, y_train, x_test, y_test, scale=True, multilabel=True)"
   ]
  }
 ],
 "metadata": {
  "kernelspec": {
   "display_name": "torchgeo",
   "language": "python",
   "name": "python3"
  },
  "language_info": {
   "codemirror_mode": {
    "name": "ipython",
    "version": 3
   },
   "file_extension": ".py",
   "mimetype": "text/x-python",
   "name": "python",
   "nbconvert_exporter": "python",
   "pygments_lexer": "ipython3",
   "version": "3.11.11"
  }
 },
 "nbformat": 4,
 "nbformat_minor": 5
}
