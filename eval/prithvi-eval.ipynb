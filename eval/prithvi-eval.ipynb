{
 "cells": [
  {
   "cell_type": "code",
   "execution_count": 1,
   "id": "2a6e3161",
   "metadata": {},
   "outputs": [],
   "source": [
    "# needs terratorch installed `pip install terratorch`\n",
    "import sys\n",
    "\n",
    "sys.path.append(\"..\")\n",
    "\n",
    "import os\n",
    "\n",
    "import kornia.augmentation as K\n",
    "import numpy as np\n",
    "import torch\n",
    "from landsatbench.datamodule import LandsatDataModule\n",
    "from landsatbench.embed import extract_features\n",
    "from landsatbench.eval import eval_knn, eval_linear_probe\n",
    "from terratorch import BACKBONE_REGISTRY\n",
    "\n",
    "root = \"../data\"\n",
    "output_dir = \"../embeddings\"\n",
    "os.makedirs(output_dir, exist_ok=True)\n",
    "\n",
    "k = 5\n",
    "device = torch.device(\"cuda\" if torch.cuda.is_available() else \"cpu\")"
   ]
  },
  {
   "cell_type": "code",
   "execution_count": 2,
   "id": "21a38d8d",
   "metadata": {},
   "outputs": [
    {
     "data": {
      "text/plain": [
       "['prithvi_eo_tiny',\n",
       " 'prithvi_eo_v1_100',\n",
       " 'prithvi_eo_v2_300',\n",
       " 'prithvi_eo_v2_600',\n",
       " 'prithvi_eo_v2_300_tl',\n",
       " 'prithvi_eo_v2_600_tl',\n",
       " 'dofa_small_patch16_224',\n",
       " 'dofa_base_patch16_224',\n",
       " 'dofa_large_patch16_224',\n",
       " 'dofa_huge_patch16_224',\n",
       " 'satlas_swin_t_sentinel2_mi_ms',\n",
       " 'satlas_swin_t_sentinel2_mi_rgb',\n",
       " 'satlas_swin_t_sentinel2_si_ms',\n",
       " 'satlas_swin_t_sentinel2_si_rgb',\n",
       " 'satlas_swin_b_sentinel2_mi_ms',\n",
       " 'satlas_swin_b_sentinel2_mi_rgb',\n",
       " 'satlas_swin_b_sentinel2_si_ms',\n",
       " 'satlas_swin_b_sentinel2_si_rgb',\n",
       " 'satlas_swin_b_naip_mi_rgb',\n",
       " 'satlas_swin_b_naip_si_rgb',\n",
       " 'satlas_swin_b_landsat_mi_ms',\n",
       " 'satlas_swin_b_landsat_mi_rgb',\n",
       " 'satlas_swin_b_sentinel1_mi',\n",
       " 'satlas_swin_b_sentinel1_si',\n",
       " 'ssl4eol_resnet18_landsat_tm_toa_moco',\n",
       " 'ssl4eol_resnet18_landsat_tm_toa_simclr',\n",
       " 'ssl4eol_resnet18_landsat_etm_toa_moco',\n",
       " 'ssl4eol_resnet18_landsat_etm_toa_simclr',\n",
       " 'ssl4eol_resnet18_landsat_etm_sr_moco',\n",
       " 'ssl4eol_resnet18_landsat_etm_sr_simclr',\n",
       " 'ssl4eol_resnet18_landsat_oli_tirs_toa_moco',\n",
       " 'ssl4eol_resnet18_landsat_oli_tirs_toa_simclr',\n",
       " 'ssl4eol_resnet18_landsat_oli_sr_moco',\n",
       " 'ssl4eol_resnet18_landsat_oli_sr_simclr',\n",
       " 'ssl4eos12_resnet18_sentinel2_all_moco',\n",
       " 'ssl4eos12_resnet18_sentinel2_rgb_moco',\n",
       " 'seco_resnet18_sentinel2_rgb_seco',\n",
       " 'fmow_resnet50_fmow_rgb_gassl',\n",
       " 'ssl4eol_resnet50_landsat_tm_toa_moco',\n",
       " 'ssl4eol_resnet50_landsat_tm_toa_simclr',\n",
       " 'ssl4eol_resnet50_landsat_etm_toa_moco',\n",
       " 'ssl4eol_resnet50_landsat_etm_toa_simclr',\n",
       " 'ssl4eol_resnet50_landsat_etm_sr_moco',\n",
       " 'ssl4eol_resnet50_landsat_etm_sr_simclr',\n",
       " 'ssl4eol_resnet50_landsat_oli_tirs_toa_moco',\n",
       " 'ssl4eol_resnet50_landsat_oli_tirs_toa_simclr',\n",
       " 'ssl4eol_resnet50_landsat_oli_sr_moco',\n",
       " 'ssl4eol_resnet50_landsat_oli_sr_simclr',\n",
       " 'ssl4eos12_resnet50_sentinel1_all_decur',\n",
       " 'ssl4eos12_resnet50_sentinel1_all_moco',\n",
       " 'ssl4eos12_resnet50_sentinel2_all_decur',\n",
       " 'ssl4eos12_resnet50_sentinel2_all_dino',\n",
       " 'ssl4eos12_resnet50_sentinel2_all_moco',\n",
       " 'ssl4eos12_resnet50_sentinel2_rgb_moco',\n",
       " 'seco_resnet50_sentinel2_rgb_seco',\n",
       " 'satlas_resnet50_sentinel2_mi_ms_satlas',\n",
       " 'satlas_resnet50_sentinel2_mi_rgb_satlas',\n",
       " 'satlas_resnet50_sentinel2_si_ms_satlas',\n",
       " 'satlas_resnet50_sentinel2_si_rgb_satlas',\n",
       " 'satlas_resnet152_sentinel2_mi_ms',\n",
       " 'satlas_resnet152_sentinel2_mi_rgb',\n",
       " 'satlas_resnet152_sentinel2_si_ms_satlas',\n",
       " 'satlas_resnet152_sentinel2_si_rgb_satlas',\n",
       " 'ssl4eol_vit_small_patch16_224_landsat_tm_toa_moco',\n",
       " 'ssl4eol_vit_small_patch16_224_landsat_tm_toa_simclr',\n",
       " 'ssl4eol_vit_small_patch16_224_landsat_etm_toa_moco',\n",
       " 'ssl4eol_vit_small_patch16_224_landsat_etm_toa_simclr',\n",
       " 'ssl4eol_vit_small_patch16_224_landsat_etm_sr_moco',\n",
       " 'ssl4eol_vit_small_patch16_224_landsat_etm_sr_simclr',\n",
       " 'ssl4eol_vit_small_patch16_224_landsat_oli_tirs_toa_simclr',\n",
       " 'ssl4eol_vit_small_patch16_224_landsat_oli_sr_moco',\n",
       " 'ssl4eol_vit_small_patch16_224_landsat_oli_sr_simclr',\n",
       " 'ssl4eos12_vit_small_patch16_224_sentinel2_all_dino',\n",
       " 'ssl4eos12_vit_small_patch16_224_sentinel2_all_moco',\n",
       " 'multimae_small',\n",
       " 'multimae_base',\n",
       " 'multimae_large',\n",
       " 'UNet',\n",
       " 'terramind_v1_base',\n",
       " 'terramind_v1_base_tim',\n",
       " 'terramind_v01_base',\n",
       " 'terramind_v1_large',\n",
       " 'terramind_v1_large_tim']"
      ]
     },
     "execution_count": 2,
     "metadata": {},
     "output_type": "execute_result"
    }
   ],
   "source": [
    "list(BACKBONE_REGISTRY[\"terratorch\"])"
   ]
  },
  {
   "cell_type": "markdown",
   "id": "9529665b",
   "metadata": {},
   "source": [
    "### EuroSAT-L"
   ]
  },
  {
   "cell_type": "code",
   "execution_count": null,
   "id": "e5b4d900",
   "metadata": {},
   "outputs": [
    {
     "data": {
      "application/vnd.jupyter.widget-view+json": {
       "model_id": "292894c8d7784c7f853dcadeb88d5c1d",
       "version_major": 2,
       "version_minor": 0
      },
      "text/plain": [
       "config.json:   0%|          | 0.00/895 [00:00<?, ?B/s]"
      ]
     },
     "metadata": {},
     "output_type": "display_data"
    },
    {
     "data": {
      "application/vnd.jupyter.widget-view+json": {
       "model_id": "e0d130fec0ab403fa7e147853955a797",
       "version_major": 2,
       "version_minor": 0
      },
      "text/plain": [
       "Prithvi_EO_V1_100M.pt:   0%|          | 0.00/454M [00:00<?, ?B/s]"
      ]
     },
     "metadata": {},
     "output_type": "display_data"
    }
   ],
   "source": [
    "from landsatbench.datasets.eurosat import dataset_statistics\n",
    "\n",
    "# Prithvi transforms\n",
    "prithvi_transforms = K.ImageSequential(\n",
    "    K.Normalize(mean=dataset_statistics[\"mean\"], std=dataset_statistics[\"std\"]),\n",
    "    K.Resize(224),\n",
    "    keepdim=True,\n",
    ")\n",
    "\n",
    "dm = LandsatDataModule(name=\"eurosat\", root=root, batch_size=32, num_workers=8, download=False)\n",
    "dm.prepare_data()\n",
    "dm.setup(\"fit\")\n",
    "\n",
    "\n",
    "class TerraTorchModel(torch.nn.Module):\n",
    "    def __init__(self, model, pool=False):\n",
    "        super().__init__()\n",
    "        self.model = model\n",
    "        self.pool = pool\n",
    "\n",
    "    def forward(self, x):\n",
    "        x = x[:, 1:, ...]  # remove the first band (SR_1) which prithvi does not use\n",
    "        x = self.model(x)[-1]\n",
    "        if self.pool:\n",
    "            x = x[:, 1:, :].mean(dim=1)\n",
    "        else:\n",
    "            x = x[:, 0, :]\n",
    "        return x\n",
    "\n",
    "\n",
    "model_name = \"prithvi_eo_v1_100\"\n",
    "\n",
    "model = BACKBONE_REGISTRY.build(model_name, pretrained=True, num_frames=1)\n",
    "model.eval()\n",
    "model = model.to(device)\n",
    "model = TerraTorchModel(model, pool=True)"
   ]
  },
  {
   "cell_type": "code",
   "execution_count": 3,
   "id": "4a28893a",
   "metadata": {},
   "outputs": [
    {
     "name": "stderr",
     "output_type": "stream",
     "text": [
      "  0%|          | 0/507 [00:00<?, ?it/s]"
     ]
    },
    {
     "name": "stderr",
     "output_type": "stream",
     "text": [
      "100%|██████████| 507/507 [01:01<00:00,  8.29it/s]\n",
      "100%|██████████| 169/169 [00:20<00:00,  8.26it/s]\n"
     ]
    }
   ],
   "source": [
    "dm.setup(\"fit\")\n",
    "x_train, y_train = extract_features(\n",
    "    model, dm.train_dataloader(), device, transforms=prithvi_transforms\n",
    ")\n",
    "\n",
    "dm.setup(\"test\")\n",
    "x_test, y_test = extract_features(\n",
    "    model, dm.test_dataloader(), device, transforms=prithvi_transforms\n",
    ")\n",
    "\n",
    "filename = os.path.join(output_dir, f\"eurosat-{model_name}.npz\")\n",
    "np.savez(\n",
    "    filename,\n",
    "    x_train=x_train,\n",
    "    y_train=y_train.astype(np.int16),\n",
    "    x_test=x_test,\n",
    "    y_test=y_test.astype(np.int16),\n",
    ")"
   ]
  },
  {
   "cell_type": "code",
   "execution_count": 4,
   "id": "41f30a72",
   "metadata": {},
   "outputs": [
    {
     "name": "stdout",
     "output_type": "stream",
     "text": [
      "+--------------------+---------------------+---------------------+------------------+------------------+--------------+--------------+\n",
      "|   overall_accuracy |   overall_precision |   average_precision |   overall_recall |   average_recall |   overall_f1 |   average_f1 |\n",
      "+====================+=====================+=====================+==================+==================+==============+==============+\n",
      "|           0.864444 |            0.864444 |            0.870047 |         0.864444 |         0.861133 |     0.864444 |     0.860225 |\n",
      "+--------------------+---------------------+---------------------+------------------+------------------+--------------+--------------+\n"
     ]
    }
   ],
   "source": [
    "# KNN eval\n",
    "filename = os.path.join(output_dir, f\"eurosat-{model_name}.npz\")\n",
    "embeddings = np.load(filename)\n",
    "x_train, y_train, x_test, y_test = (\n",
    "    embeddings[\"x_train\"],\n",
    "    embeddings[\"y_train\"],\n",
    "    embeddings[\"x_test\"],\n",
    "    embeddings[\"y_test\"],\n",
    ")\n",
    "metrics = eval_knn(x_train, y_train, x_test, y_test, k=5, scale=True)"
   ]
  },
  {
   "cell_type": "code",
   "execution_count": null,
   "id": "ac741222",
   "metadata": {},
   "outputs": [
    {
     "name": "stderr",
     "output_type": "stream",
     "text": [
      "/home/ubuntu/miniconda3/envs/torchgeo/lib/python3.11/site-packages/sklearn/linear_model/_sag.py:348: ConvergenceWarning: The max_iter was reached which means the coef_ did not converge\n",
      "  warnings.warn(\n"
     ]
    },
    {
     "name": "stdout",
     "output_type": "stream",
     "text": [
      "+--------------------+---------------------+---------------------+------------------+------------------+--------------+--------------+\n",
      "|   overall_accuracy |   overall_precision |   average_precision |   overall_recall |   average_recall |   overall_f1 |   average_f1 |\n",
      "+====================+=====================+=====================+==================+==================+==============+==============+\n",
      "|           0.911111 |            0.911111 |              0.9183 |         0.911111 |         0.908047 |     0.911111 |      0.91125 |\n",
      "+--------------------+---------------------+---------------------+------------------+------------------+--------------+--------------+\n"
     ]
    }
   ],
   "source": [
    "# Linear Probe\n",
    "filename = os.path.join(output_dir, f\"eurosat-{model_name}.npz\")\n",
    "embeddings = np.load(filename)\n",
    "x_train, y_train, x_test, y_test = (\n",
    "    embeddings[\"x_train\"],\n",
    "    embeddings[\"y_train\"],\n",
    "    embeddings[\"x_test\"],\n",
    "    embeddings[\"y_test\"],\n",
    ")\n",
    "metrics = eval_linear_probe(x_train, y_train, x_test, y_test, scale=True)"
   ]
  }
 ],
 "metadata": {
  "kernelspec": {
   "display_name": "torchgeo",
   "language": "python",
   "name": "python3"
  },
  "language_info": {
   "codemirror_mode": {
    "name": "ipython",
    "version": 3
   },
   "file_extension": ".py",
   "mimetype": "text/x-python",
   "name": "python",
   "nbconvert_exporter": "python",
   "pygments_lexer": "ipython3",
   "version": "3.11.11"
  }
 },
 "nbformat": 4,
 "nbformat_minor": 5
}
