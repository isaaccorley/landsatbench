{
 "cells": [
  {
   "cell_type": "code",
   "execution_count": null,
   "id": "2147ecc2",
   "metadata": {},
   "outputs": [],
   "source": [
    "import sys\n",
    "\n",
    "sys.path.append(\"..\")\n",
    "\n",
    "import os\n",
    "\n",
    "import kornia.augmentation as K\n",
    "import numpy as np\n",
    "import torch\n",
    "from landsatbench.datamodule import LandsatDataModule\n",
    "from landsatbench.embed import extract_features\n",
    "from landsatbench.eval import eval_knn, eval_linear_probe\n",
    "from torchgeo.models import DOFALarge16_Weights, dofa_large_patch16_224\n",
    "\n",
    "root = \"../data\"\n",
    "output_dir = \"../embeddings\"\n",
    "os.makedirs(output_dir, exist_ok=True)\n",
    "\n",
    "bands = (\"SR_B1\", \"SR_B2\", \"SR_B3\", \"SR_B4\", \"SR_B5\", \"SR_B6\", \"SR_B7\")\n",
    "\n",
    "model_name = \"dofa_large_patch16_224\"\n",
    "k = 5\n",
    "device = torch.device(\"cuda\" if torch.cuda.is_available() else \"cpu\")"
   ]
  },
  {
   "cell_type": "markdown",
   "id": "0314a16b",
   "metadata": {},
   "source": [
    "## EuroSAT-L"
   ]
  },
  {
   "cell_type": "code",
   "execution_count": 7,
   "id": "59f7bfd4",
   "metadata": {},
   "outputs": [
    {
     "name": "stdout",
     "output_type": "stream",
     "text": [
      "Downloading: \"https://hf.co/torchgeo/dofa/resolve/b8db318b64a90b9e085ec04ba8851233c5893666/dofa_large_patch16_224-0ff904d3.pth\" to /home/ubuntu/.cache/torch/hub/checkpoints/dofa_large_patch16_224-0ff904d3.pth\n"
     ]
    },
    {
     "name": "stderr",
     "output_type": "stream",
     "text": [
      "100%|██████████| 1.26G/1.26G [00:25<00:00, 53.4MB/s]\n"
     ]
    }
   ],
   "source": [
    "from landsatbench.datasets.eurosat import dataset_statistics\n",
    "\n",
    "# Prithvi transforms\n",
    "transforms = K.ImageSequential(\n",
    "    K.Normalize(mean=dataset_statistics[\"mean\"], std=dataset_statistics[\"std\"]),\n",
    "    K.Resize(224),\n",
    "    keepdim=True,\n",
    ")\n",
    "\n",
    "dm = LandsatDataModule(name=\"eurosat\", root=root, batch_size=32, num_workers=8, download=False)\n",
    "dm.prepare_data()\n",
    "dm.setup(\"fit\")\n",
    "\n",
    "\n",
    "class DOFAModel(torch.nn.Module):\n",
    "    def __init__(self, model):\n",
    "        super().__init__()\n",
    "        self.model = model\n",
    "        self.wavelengths = [0.443, 0.482, 0.561, 0.655, 0.865, 1.610, 2.200]\n",
    "\n",
    "    def forward(self, x):\n",
    "        return self.model.forward_features(x, wavelengths=self.wavelengths)\n",
    "\n",
    "\n",
    "# model_name = \"dofa_base_patch16_224\"\n",
    "# model = DOFAModel(dofa_base_patch16_224(weights=DOFABase16_Weights.DOFA_MAE))\n",
    "\n",
    "model_name = \"dofa_large_patch16_224\"\n",
    "model = DOFAModel(dofa_large_patch16_224(weights=DOFALarge16_Weights.DOFA_MAE))\n",
    "\n",
    "model = model.eval()\n",
    "model = model.to(device)"
   ]
  },
  {
   "cell_type": "code",
   "execution_count": 8,
   "id": "3e607a5f",
   "metadata": {},
   "outputs": [
    {
     "name": "stderr",
     "output_type": "stream",
     "text": [
      "  0%|          | 0/507 [00:00<?, ?it/s]"
     ]
    },
    {
     "name": "stderr",
     "output_type": "stream",
     "text": [
      "100%|██████████| 507/507 [02:31<00:00,  3.35it/s]\n",
      "100%|██████████| 169/169 [00:51<00:00,  3.30it/s]\n"
     ]
    }
   ],
   "source": [
    "dm.setup(\"fit\")\n",
    "x_train, y_train = extract_features(model, dm.train_dataloader(), device, transforms=transforms)\n",
    "\n",
    "dm.setup(\"test\")\n",
    "x_test, y_test = extract_features(model, dm.test_dataloader(), device, transforms=transforms)\n",
    "\n",
    "filename = os.path.join(output_dir, f\"eurosat-{model_name}.npz\")\n",
    "np.savez(\n",
    "    filename,\n",
    "    x_train=x_train,\n",
    "    y_train=y_train.astype(np.int16),\n",
    "    x_test=x_test,\n",
    "    y_test=y_test.astype(np.int16),\n",
    ")"
   ]
  },
  {
   "cell_type": "code",
   "execution_count": 9,
   "id": "0126e56e",
   "metadata": {},
   "outputs": [
    {
     "name": "stdout",
     "output_type": "stream",
     "text": [
      "+--------------------+---------------------+---------------------+------------------+------------------+--------------+--------------+\n",
      "|   overall_accuracy |   overall_precision |   average_precision |   overall_recall |   average_recall |   overall_f1 |   average_f1 |\n",
      "+====================+=====================+=====================+==================+==================+==============+==============+\n",
      "|            0.84537 |             0.84537 |             0.85927 |          0.84537 |         0.841297 |      0.84537 |     0.845984 |\n",
      "+--------------------+---------------------+---------------------+------------------+------------------+--------------+--------------+\n"
     ]
    }
   ],
   "source": [
    "# KNN eval\n",
    "filename = os.path.join(output_dir, f\"eurosat-{model_name}.npz\")\n",
    "embeddings = np.load(filename)\n",
    "x_train, y_train, x_test, y_test = (\n",
    "    embeddings[\"x_train\"],\n",
    "    embeddings[\"y_train\"],\n",
    "    embeddings[\"x_test\"],\n",
    "    embeddings[\"y_test\"],\n",
    ")\n",
    "metrics = eval_knn(x_train, y_train, x_test, y_test, k=5, scale=True)"
   ]
  },
  {
   "cell_type": "code",
   "execution_count": 10,
   "id": "fcecd855",
   "metadata": {},
   "outputs": [
    {
     "name": "stderr",
     "output_type": "stream",
     "text": [
      "/home/ubuntu/miniconda3/envs/torchgeo/lib/python3.11/site-packages/sklearn/linear_model/_sag.py:348: ConvergenceWarning: The max_iter was reached which means the coef_ did not converge\n",
      "  warnings.warn(\n"
     ]
    },
    {
     "name": "stdout",
     "output_type": "stream",
     "text": [
      "+--------------------+---------------------+---------------------+------------------+------------------+--------------+--------------+\n",
      "|   overall_accuracy |   overall_precision |   average_precision |   overall_recall |   average_recall |   overall_f1 |   average_f1 |\n",
      "+====================+=====================+=====================+==================+==================+==============+==============+\n",
      "|           0.897593 |            0.897593 |            0.904595 |         0.897593 |         0.895392 |     0.897593 |     0.898124 |\n",
      "+--------------------+---------------------+---------------------+------------------+------------------+--------------+--------------+\n"
     ]
    }
   ],
   "source": [
    "# Linear Probe\n",
    "filename = os.path.join(output_dir, f\"eurosat-{model_name}.npz\")\n",
    "embeddings = np.load(filename)\n",
    "x_train, y_train, x_test, y_test = (\n",
    "    embeddings[\"x_train\"],\n",
    "    embeddings[\"y_train\"],\n",
    "    embeddings[\"x_test\"],\n",
    "    embeddings[\"y_test\"],\n",
    ")\n",
    "metrics = eval_linear_probe(x_train, y_train, x_test, y_test, scale=True)"
   ]
  }
 ],
 "metadata": {
  "kernelspec": {
   "display_name": "torchgeo",
   "language": "python",
   "name": "python3"
  },
  "language_info": {
   "codemirror_mode": {
    "name": "ipython",
    "version": 3
   },
   "file_extension": ".py",
   "mimetype": "text/x-python",
   "name": "python",
   "nbconvert_exporter": "python",
   "pygments_lexer": "ipython3",
   "version": "3.11.11"
  }
 },
 "nbformat": 4,
 "nbformat_minor": 5
}
